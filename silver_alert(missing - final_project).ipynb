{
  "nbformat": 4,
  "nbformat_minor": 0,
  "metadata": {
    "colab": {
      "name": "SILVER ALERT(missing).ipynb",
      "provenance": [],
      "collapsed_sections": []
    },
    "kernelspec": {
      "name": "python3",
      "display_name": "Python 3"
    },
    "language_info": {
      "name": "python"
    }
  },
  "cells": [
    {
      "cell_type": "markdown",
      "source": [
        "## Silver Alert Greece - Tρέχουσες Εξαφανίσεις Γραμμή Ζωής\n",
        "**Παπαχρήστου Σοφία**\n",
        "\n",
        "Θα πάρω από την σελίδα αυτή όσες πληροφορίες μπορώ για τους εξαφανισμένους\n",
        "https://www.lifelinehellas.gr/category/%CE%B5%CE%BE%CE%B1%CF%86%CE%B1%CE%BD%CE%B9%CF%83%CE%B8%CE%AD%CE%BD%CF%84%CE%B5%CF%82/\n",
        "\n",
        "και μετά θα ανοίξω κάθε url εξαφανισμένου για να βρω όσες πληροφορίες δεν υπήρχαν στην γενική σελίδα, στο κείμενο που περιέχει το εκάστοτε url."
      ],
      "metadata": {
        "id": "p0cR7Lr2m7fk"
      }
    },
    {
      "cell_type": "code",
      "execution_count": 64,
      "metadata": {
        "id": "wuzCbp0TmwwP"
      },
      "outputs": [],
      "source": [
        "from urllib.request import Request, urlopen\n",
        "from bs4 import BeautifulSoup\n",
        "%matplotlib inline\n",
        "import pandas as pd\n",
        "import matplotlib.pyplot as plt\n",
        "import matplotlib\n",
        "matplotlib.rcParams['pdf.fonttype'] = 42\n",
        "import numpy as np\n",
        "import requests\n",
        "import time"
      ]
    },
    {
      "cell_type": "code",
      "source": [
        "from urllib.request import Request, urlopen\n",
        "req = Request('https://www.lifelinehellas.gr/category/%CE%B5%CE%BE%CE%B1%CF%86%CE%B1%CE%BD%CE%B9%CF%83%CE%B8%CE%AD%CE%BD%CF%84%CE%B5%CF%82/', headers={'User-Agent': 'Mozilla/5.0'})\n",
        "webpage = urlopen(req).read()\n",
        "silver_alert = BeautifulSoup(webpage, \"html.parser\")"
      ],
      "metadata": {
        "id": "Z1cVPbcKnGt-"
      },
      "execution_count": null,
      "outputs": []
    },
    {
      "cell_type": "markdown",
      "source": [
        "## 1. Βρίσκω το όνομα του εξαφανισμένου"
      ],
      "metadata": {
        "id": "bMqSxkDgnr-l"
      }
    },
    {
      "cell_type": "code",
      "source": [
        "#names = silver_alert.find_all('div', {'class': 'content-box'})\n",
        "names = silver_alert.find_all('div', {'class': 'image'}) #παιρνω απο εδώ το όνομα γιατί στις τελευταιες σελίδες δεν έχει content box στην html\n",
        "\n",
        "for n in names:\n",
        "  print(n.a['title'])"
      ],
      "metadata": {
        "colab": {
          "base_uri": "https://localhost:8080/"
        },
        "id": "EEt9ZmfynaiO",
        "outputId": "ad955bd9-d0f9-4c13-88ea-f3823010e7e8"
      },
      "execution_count": null,
      "outputs": [
        {
          "output_type": "stream",
          "name": "stdout",
          "text": [
            "ΟΛΥΜΠΙΑΔΑ ΡΗΓΑ\n",
            "ΦΑΝΗ ΠΑΡΑΦΕΣΤΑ\n",
            "ΕΥΓΕΝΙΑ – ΜΑΡΙΑ ΒΟΥΝΙΟΖΟΥ\n",
            "ΕΥΦΗΜΙΑ ΔΗΜΟΠΟΥΛΟΥ\n",
            "ΚΩΝΣΤΑΝΤΙΝΟΣ ΖΑΦΕΙΡΟΠΟΥΛΟΣ\n",
            "ΣΤΥΛΙΑΝΟΣ ΣΠΥΡΟΥ\n",
            "DERVISHI KELVIN\n",
            "ΠΕΡΙΚΛΗΣ ΤΑΧΑΤΟΣ\n",
            "ΠΑΝΑΓΙΩΤΗΣ ΚΑΛΕΣΗΣ\n",
            "ΙΩΑΝΝΗΣ ΓΙΑΝΝΗΣ\n"
          ]
        }
      ]
    },
    {
      "cell_type": "markdown",
      "source": [
        "## 2. Βρίσκω την ημερομηνία εξαφάνισης"
      ],
      "metadata": {
        "id": "Na-vL1ekoaYp"
      }
    },
    {
      "cell_type": "code",
      "source": [
        "post_box = silver_alert.find('div', attrs={'class': 'post-box'})\n",
        "\n",
        "for d in post_box.findAll(\"article\"):\n",
        "    print(d.get('sort_date'))"
      ],
      "metadata": {
        "colab": {
          "base_uri": "https://localhost:8080/"
        },
        "id": "bC5NS5HOrfj_",
        "outputId": "9cb17aa9-0848-41b9-8218-e7363bfad531"
      },
      "execution_count": null,
      "outputs": [
        {
          "output_type": "stream",
          "name": "stdout",
          "text": [
            "2022-06-25 22:44:41\n",
            "2022-06-20 15:35:19\n",
            "2022-05-31 11:04:55\n",
            "2022-05-23 21:22:33\n",
            "2022-05-12 21:06:44\n",
            "2022-05-01 11:55:08\n",
            "2022-04-11 22:27:58\n",
            "2022-04-06 18:20:48\n",
            "2022-04-03 14:44:32\n",
            "2022-04-02 00:13:52\n"
          ]
        }
      ]
    },
    {
      "cell_type": "code",
      "source": [
        "dates = silver_alert.find_all('div', {'class': 'image'})\n",
        "\n",
        "for d in dates:\n",
        "  print(d.span.text)"
      ],
      "metadata": {
        "colab": {
          "base_uri": "https://localhost:8080/"
        },
        "id": "aqGM2pwjny98",
        "outputId": "e8aa5d23-361c-46ad-d810-f4fef96b2d54"
      },
      "execution_count": null,
      "outputs": [
        {
          "output_type": "stream",
          "name": "stdout",
          "text": [
            "\n",
            "                            25 Ιούνιος, 2022                        \n",
            "\n",
            "                            20 Ιούνιος, 2022                        \n",
            "\n",
            "                            31 Μάιος, 2022                        \n",
            "\n",
            "                            23 Μάιος, 2022                        \n",
            "\n",
            "                            12 Μάιος, 2022                        \n",
            "\n",
            "                            1 Μάιος, 2022                        \n",
            "\n",
            "                            11 Απρίλιος, 2022                        \n",
            "\n",
            "                            6 Απρίλιος, 2022                        \n",
            "\n",
            "                            3 Απρίλιος, 2022                        \n",
            "\n",
            "                            2 Απρίλιος, 2022                        \n"
          ]
        }
      ]
    },
    {
      "cell_type": "markdown",
      "source": [
        "## 3. Βρίσκω το url του αρθρου της εξαφάνισης κάθε προσώπου"
      ],
      "metadata": {
        "id": "oSTtdkzsn1PU"
      }
    },
    {
      "cell_type": "code",
      "source": [
        "#Οπως ειδα και πριν στις τελευταίες σελίδες δεν υπάρχει content box, οπότε όταν πάω να πάρω όλα τα urls θα υπάρχει\n",
        "#urls = silver_alert.find_all('div', {'class': 'content-box'}) αρα αυτο ακυρο\n",
        "urls = silver_alert.find_all('div', {'class': 'image'})\n",
        "\n",
        "for u in urls:\n",
        "  print(u.a['href'])"
      ],
      "metadata": {
        "colab": {
          "base_uri": "https://localhost:8080/"
        },
        "id": "0pZW8WaRnztk",
        "outputId": "5af6c9db-ef3f-4177-8bf7-59c5c24745e5"
      },
      "execution_count": null,
      "outputs": [
        {
          "output_type": "stream",
          "name": "stdout",
          "text": [
            "https://www.lifelinehellas.gr/%ce%bf%ce%bb%cf%85%ce%bc%cf%80%ce%b9%ce%b1%ce%b4%ce%b1-%cf%81%ce%b7%ce%b3%ce%b1/\n",
            "https://www.lifelinehellas.gr/%cf%86%ce%b1%ce%bd%ce%b7-%cf%80%ce%b1%cf%81%ce%b1%cf%86%ce%b5%cf%83%cf%84%ce%b1/\n",
            "https://www.lifelinehellas.gr/%ce%bc%ce%b1%cf%81%ce%b9%ce%b1-%ce%b2%ce%bf%cf%85%ce%bd%ce%b9%ce%bf%ce%b6%ce%bf%cf%85/\n",
            "https://www.lifelinehellas.gr/11294-2/\n",
            "https://www.lifelinehellas.gr/%ce%ba%cf%89%ce%bd%cf%83%cf%84%ce%b1%ce%bd%cf%84%ce%b9%ce%bd%ce%bf%cf%83-%ce%b6%ce%b1%cf%86%ce%b5%ce%b9%cf%81%ce%bf%cf%80%ce%bf%cf%85%ce%bb%ce%bf%cf%83/\n",
            "https://www.lifelinehellas.gr/%cf%83%cf%84%cf%85%ce%bb%ce%b9%ce%b1%ce%bd%ce%bf%cf%83-%cf%83%cf%80%cf%85%cf%81%ce%bf%cf%85/\n",
            "https://www.lifelinehellas.gr/dervishi-kelvin/\n",
            "https://www.lifelinehellas.gr/%cf%80%ce%b5%cf%81%ce%b9%ce%ba%ce%bb%ce%b7%cf%83-%cf%84%ce%b1%cf%87%ce%b1%cf%84%ce%bf%cf%83/\n",
            "https://www.lifelinehellas.gr/%cf%80%ce%b1%ce%bd%ce%b1%ce%b3%ce%b9%cf%89%cf%84%ce%b7%cf%83-%ce%ba%ce%b1%ce%bb%ce%b5%cf%83%ce%b7%cf%83/\n",
            "https://www.lifelinehellas.gr/%ce%b9%cf%89%ce%b1%ce%bd%ce%bd%ce%b7%cf%83-%ce%b3%ce%b9%ce%b1%ce%bd%ce%bd%ce%b7%cf%83/\n"
          ]
        }
      ]
    },
    {
      "cell_type": "markdown",
      "source": [
        "## 4. Βρίσκω το tag για κάθε άτομο \n",
        "π.χ εξαφανισθέντες ή ευρεθέντες ή αγνώστων στοιχείων, μπορεί να ψάξω και αυτά αργότερα"
      ],
      "metadata": {
        "id": "DX09q37Jpg-M"
      }
    },
    {
      "cell_type": "code",
      "source": [
        "tags = silver_alert.find_all('span', {'class': 'categories'})\n",
        "\n",
        "for t in tags:\n",
        "  print(t.a.text)"
      ],
      "metadata": {
        "colab": {
          "base_uri": "https://localhost:8080/"
        },
        "id": "XHzBtIJwpgSN",
        "outputId": "6ee14230-edfe-495b-f0a7-6e656bce49cb"
      },
      "execution_count": null,
      "outputs": [
        {
          "output_type": "stream",
          "name": "stdout",
          "text": [
            "Εξαφανισθέντες\n",
            "Εξαφανισθέντες\n",
            "Εξαφανισθέντες\n",
            "Εξαφανισθέντες\n",
            "Εξαφανισθέντες\n",
            "Εξαφανισθέντες\n",
            "Εξαφανισθέντες\n",
            "Εξαφανισθέντες\n",
            "Εξαφανισθέντες\n",
            "Εξαφανισθέντες\n"
          ]
        }
      ]
    },
    {
      "cell_type": "markdown",
      "source": [
        "Ωραία τώρα δεν υπάρχει κάποια άλλη εμφανής πληροφόρία. Περισσότερα θα πάρω μετά από το κείμενο περιγραφής της εξαφάνισης."
      ],
      "metadata": {
        "id": "m6b65KszvoXd"
      }
    },
    {
      "cell_type": "markdown",
      "source": [
        "## 5. Scraping\n",
        "Πρέπει να πάρω όλα τα παραπάνω για όλες τις διαθέσιμες σελίδες, να φτιάξω ενα df και να το αποθηκεύσω. Eνδεικτική μορφή url αλλαγή σελίδας:\n",
        "\n",
        "https://www.lifelinehellas.gr/category/%CE%B5%CE%BE%CE%B1%CF%86%CE%B1%CE%BD%CE%B9%CF%83%CE%B8%CE%AD%CE%BD%CF%84%CE%B5%CF%82/page/3/\n",
        "https://www.lifelinehellas.gr/category/%CE%B5%CE%BE%CE%B1%CF%86%CE%B1%CE%BD%CE%B9%CF%83%CE%B8%CE%AD%CE%BD%CF%84%CE%B5%CF%82/page/13/ "
      ],
      "metadata": {
        "id": "ycXKttkyqCPV"
      }
    },
    {
      "cell_type": "code",
      "source": [
        "# Φτιάχνω λίστες που θα γεμίσω με το καθένα δεδομένο\n",
        "url_list= []\n",
        "name_list= []\n",
        "date_list= []\n",
        "tag_list= []\n",
        "\n",
        "base_url = \"https://www.lifelinehellas.gr/category/%CE%B5%CE%BE%CE%B1%CF%86%CE%B1%CE%BD%CE%B9%CF%83%CE%B8%CE%AD%CE%BD%CF%84%CE%B5%CF%82/page/\"\n",
        "\n",
        "#εδώ θα βάλω να αλλάζει το νούμερο στο url, αντίστοιχα με τον αριθμό σελίδας\n",
        "for i in range(1,16):\n",
        "    url = base_url + str(i) + \"/\"\n",
        "    #print(url)\n",
        "\n",
        "    page = requests.get(url, headers={'User-Agent': 'Mozilla/5.0'})\n",
        "    s = BeautifulSoup(page.content, 'html.parser')\n",
        "\n",
        "    for n in s.find_all('div', {'class': 'image'}):\n",
        "      name_list.append(n.a['title'])\n",
        "\n",
        "    post_box = s.find('div', attrs={'class': 'post-box'})\n",
        "    for d in post_box.findAll(\"article\"):\n",
        "        date_list.append(d.get('sort_date'))\n",
        "\n",
        "    for u in s.find_all('div', {'class': 'image'}):\n",
        "        url_list.append(u.a['href'])\n",
        "\n",
        "    for t in s.find_all('span', {'class': 'categories'}):\n",
        "        tag_list.append(t.a.text)"
      ],
      "metadata": {
        "id": "DqOGRwQRwo9X"
      },
      "execution_count": null,
      "outputs": []
    },
    {
      "cell_type": "code",
      "source": [
        "# ενδεικτικά Τυπώνει το νούμερο π.χ των links\n",
        "print(len(url_list))"
      ],
      "metadata": {
        "colab": {
          "base_uri": "https://localhost:8080/"
        },
        "id": "qcmrqtCSCDZu",
        "outputId": "b2f53267-fb22-4447-d182-f071257b0fcd"
      },
      "execution_count": null,
      "outputs": [
        {
          "output_type": "stream",
          "name": "stdout",
          "text": [
            "150\n"
          ]
        }
      ]
    },
    {
      "cell_type": "markdown",
      "source": [
        "Ωραία τώρα θέλω να ανοίξω κάθε url εξαφανισμένου και να βρω την ηλικία του, ώστε να το προσθέσω και αυτό στο df μου. Θα προσπαθήσω από κάθε άρθρο να βρω που υπάρχουν αριθμοί που συνοδεύονται από την λέξη \"..ετών ή ..χρονου/ης\" (κολλητά ή όχι το νούμερο). Βέβαια σε κάποιες σελίδες δεν αναφέρουν καθόλου ηλικία στο κείμενο (το έχουν μόνο στην φωτογραφία) ή σε άλλες πιο παλιές σελίδες το url είναι για την φωτογραφία δεν υπάρχει κείμενο, αλλά δεν πειράζει θα το αφήσω κενό."
      ],
      "metadata": {
        "id": "S3UHbE5Zwwmt"
      }
    },
    {
      "cell_type": "code",
      "source": [
        "import re"
      ],
      "metadata": {
        "id": "A76JCFh6xLEZ"
      },
      "execution_count": null,
      "outputs": []
    },
    {
      "cell_type": "code",
      "source": [
        "#βρίσκω όλα τα urls μου από το url_list που τα αποθήκευσα νωρίτερα\n",
        "age_list = []\n",
        "\n",
        "for i in range(len(url_list)):\n",
        "  reqs2 = requests.get(url_list[i])\n",
        "  soup2 = BeautifulSoup(reqs2.content, \"html.parser\")\n",
        "\n",
        "  if soup2.find(\"div\", {'class': \"entry-content\"}):\n",
        "    for x in soup2.find_all(\"div\", {'class': \"entry-content\"}):\n",
        "        age_list.append(re.findall(r\"(\\d+\\W?)+(?:ετών|χρονου|χρονης)\", str(x)))\n",
        "  else:\n",
        "      age_list.append(None)"
      ],
      "metadata": {
        "colab": {
          "base_uri": "https://localhost:8080/"
        },
        "id": "VugwD_7lqyhD",
        "outputId": "c5d5a095-a81b-4b3b-a7b7-9e9615cc5cc6"
      },
      "execution_count": null,
      "outputs": [
        {
          "output_type": "stream",
          "name": "stderr",
          "text": [
            "Some characters could not be decoded, and were replaced with REPLACEMENT CHARACTER.\n",
            "Some characters could not be decoded, and were replaced with REPLACEMENT CHARACTER.\n",
            "Some characters could not be decoded, and were replaced with REPLACEMENT CHARACTER.\n",
            "Some characters could not be decoded, and were replaced with REPLACEMENT CHARACTER.\n",
            "Some characters could not be decoded, and were replaced with REPLACEMENT CHARACTER.\n",
            "Some characters could not be decoded, and were replaced with REPLACEMENT CHARACTER.\n",
            "Some characters could not be decoded, and were replaced with REPLACEMENT CHARACTER.\n",
            "Some characters could not be decoded, and were replaced with REPLACEMENT CHARACTER.\n",
            "Some characters could not be decoded, and were replaced with REPLACEMENT CHARACTER.\n",
            "Some characters could not be decoded, and were replaced with REPLACEMENT CHARACTER.\n",
            "Some characters could not be decoded, and were replaced with REPLACEMENT CHARACTER.\n",
            "Some characters could not be decoded, and were replaced with REPLACEMENT CHARACTER.\n",
            "Some characters could not be decoded, and were replaced with REPLACEMENT CHARACTER.\n",
            "Some characters could not be decoded, and were replaced with REPLACEMENT CHARACTER.\n",
            "Some characters could not be decoded, and were replaced with REPLACEMENT CHARACTER.\n",
            "Some characters could not be decoded, and were replaced with REPLACEMENT CHARACTER.\n",
            "Some characters could not be decoded, and were replaced with REPLACEMENT CHARACTER.\n",
            "Some characters could not be decoded, and were replaced with REPLACEMENT CHARACTER.\n"
          ]
        }
      ]
    },
    {
      "cell_type": "code",
      "source": [
        "#επιβεβαιώνω ότι έχει το ίδιο len με τις προηγούμενες λίστες\n",
        "len(age_list)"
      ],
      "metadata": {
        "colab": {
          "base_uri": "https://localhost:8080/"
        },
        "id": "f8dSnO3dnsxw",
        "outputId": "1f84006d-7b1a-4bd7-d621-875c7a6671b5"
      },
      "execution_count": null,
      "outputs": [
        {
          "output_type": "execute_result",
          "data": {
            "text/plain": [
              "150"
            ]
          },
          "metadata": {},
          "execution_count": 86
        }
      ]
    },
    {
      "cell_type": "code",
      "source": [
        "missing = pd.DataFrame({'Name': name_list ,'Datetime': date_list, 'Tags': tag_list, 'Url': url_list, 'Age': age_list})\n",
        "missing.head()"
      ],
      "metadata": {
        "id": "yrDptoqBCPfa",
        "colab": {
          "base_uri": "https://localhost:8080/",
          "height": 206
        },
        "outputId": "77d8eec7-f1f9-4d32-e76c-3a8b89268f9d"
      },
      "execution_count": null,
      "outputs": [
        {
          "output_type": "execute_result",
          "data": {
            "text/plain": [
              "                         Name             Datetime            Tags  \\\n",
              "0              ΟΛΥΜΠΙΑΔΑ ΡΗΓΑ  2022-06-25 22:44:41  Εξαφανισθέντες   \n",
              "1              ΦΑΝΗ ΠΑΡΑΦΕΣΤΑ  2022-06-20 15:35:19  Εξαφανισθέντες   \n",
              "2   ΕΥΓΕΝΙΑ – ΜΑΡΙΑ ΒΟΥΝΙΟΖΟΥ  2022-05-31 11:04:55  Εξαφανισθέντες   \n",
              "3          ΕΥΦΗΜΙΑ ΔΗΜΟΠΟΥΛΟΥ  2022-05-23 21:22:33  Εξαφανισθέντες   \n",
              "4  ΚΩΝΣΤΑΝΤΙΝΟΣ ΖΑΦΕΙΡΟΠΟΥΛΟΣ  2022-05-12 21:06:44  Εξαφανισθέντες   \n",
              "\n",
              "                                                 Url    Age  \n",
              "0  https://www.lifelinehellas.gr/%ce%bf%ce%bb%cf%...  [54 ]  \n",
              "1  https://www.lifelinehellas.gr/%cf%86%ce%b1%ce%...  [45 ]  \n",
              "2  https://www.lifelinehellas.gr/%ce%bc%ce%b1%cf%...  [36 ]  \n",
              "3             https://www.lifelinehellas.gr/11294-2/  [77 ]  \n",
              "4  https://www.lifelinehellas.gr/%ce%ba%cf%89%ce%...  [35 ]  "
            ],
            "text/html": [
              "\n",
              "  <div id=\"df-f53c220a-f639-4c8a-9a7c-282f805d475b\">\n",
              "    <div class=\"colab-df-container\">\n",
              "      <div>\n",
              "<style scoped>\n",
              "    .dataframe tbody tr th:only-of-type {\n",
              "        vertical-align: middle;\n",
              "    }\n",
              "\n",
              "    .dataframe tbody tr th {\n",
              "        vertical-align: top;\n",
              "    }\n",
              "\n",
              "    .dataframe thead th {\n",
              "        text-align: right;\n",
              "    }\n",
              "</style>\n",
              "<table border=\"1\" class=\"dataframe\">\n",
              "  <thead>\n",
              "    <tr style=\"text-align: right;\">\n",
              "      <th></th>\n",
              "      <th>Name</th>\n",
              "      <th>Datetime</th>\n",
              "      <th>Tags</th>\n",
              "      <th>Url</th>\n",
              "      <th>Age</th>\n",
              "    </tr>\n",
              "  </thead>\n",
              "  <tbody>\n",
              "    <tr>\n",
              "      <th>0</th>\n",
              "      <td>ΟΛΥΜΠΙΑΔΑ ΡΗΓΑ</td>\n",
              "      <td>2022-06-25 22:44:41</td>\n",
              "      <td>Εξαφανισθέντες</td>\n",
              "      <td>https://www.lifelinehellas.gr/%ce%bf%ce%bb%cf%...</td>\n",
              "      <td>[54 ]</td>\n",
              "    </tr>\n",
              "    <tr>\n",
              "      <th>1</th>\n",
              "      <td>ΦΑΝΗ ΠΑΡΑΦΕΣΤΑ</td>\n",
              "      <td>2022-06-20 15:35:19</td>\n",
              "      <td>Εξαφανισθέντες</td>\n",
              "      <td>https://www.lifelinehellas.gr/%cf%86%ce%b1%ce%...</td>\n",
              "      <td>[45 ]</td>\n",
              "    </tr>\n",
              "    <tr>\n",
              "      <th>2</th>\n",
              "      <td>ΕΥΓΕΝΙΑ – ΜΑΡΙΑ ΒΟΥΝΙΟΖΟΥ</td>\n",
              "      <td>2022-05-31 11:04:55</td>\n",
              "      <td>Εξαφανισθέντες</td>\n",
              "      <td>https://www.lifelinehellas.gr/%ce%bc%ce%b1%cf%...</td>\n",
              "      <td>[36 ]</td>\n",
              "    </tr>\n",
              "    <tr>\n",
              "      <th>3</th>\n",
              "      <td>ΕΥΦΗΜΙΑ ΔΗΜΟΠΟΥΛΟΥ</td>\n",
              "      <td>2022-05-23 21:22:33</td>\n",
              "      <td>Εξαφανισθέντες</td>\n",
              "      <td>https://www.lifelinehellas.gr/11294-2/</td>\n",
              "      <td>[77 ]</td>\n",
              "    </tr>\n",
              "    <tr>\n",
              "      <th>4</th>\n",
              "      <td>ΚΩΝΣΤΑΝΤΙΝΟΣ ΖΑΦΕΙΡΟΠΟΥΛΟΣ</td>\n",
              "      <td>2022-05-12 21:06:44</td>\n",
              "      <td>Εξαφανισθέντες</td>\n",
              "      <td>https://www.lifelinehellas.gr/%ce%ba%cf%89%ce%...</td>\n",
              "      <td>[35 ]</td>\n",
              "    </tr>\n",
              "  </tbody>\n",
              "</table>\n",
              "</div>\n",
              "      <button class=\"colab-df-convert\" onclick=\"convertToInteractive('df-f53c220a-f639-4c8a-9a7c-282f805d475b')\"\n",
              "              title=\"Convert this dataframe to an interactive table.\"\n",
              "              style=\"display:none;\">\n",
              "        \n",
              "  <svg xmlns=\"http://www.w3.org/2000/svg\" height=\"24px\"viewBox=\"0 0 24 24\"\n",
              "       width=\"24px\">\n",
              "    <path d=\"M0 0h24v24H0V0z\" fill=\"none\"/>\n",
              "    <path d=\"M18.56 5.44l.94 2.06.94-2.06 2.06-.94-2.06-.94-.94-2.06-.94 2.06-2.06.94zm-11 1L8.5 8.5l.94-2.06 2.06-.94-2.06-.94L8.5 2.5l-.94 2.06-2.06.94zm10 10l.94 2.06.94-2.06 2.06-.94-2.06-.94-.94-2.06-.94 2.06-2.06.94z\"/><path d=\"M17.41 7.96l-1.37-1.37c-.4-.4-.92-.59-1.43-.59-.52 0-1.04.2-1.43.59L10.3 9.45l-7.72 7.72c-.78.78-.78 2.05 0 2.83L4 21.41c.39.39.9.59 1.41.59.51 0 1.02-.2 1.41-.59l7.78-7.78 2.81-2.81c.8-.78.8-2.07 0-2.86zM5.41 20L4 18.59l7.72-7.72 1.47 1.35L5.41 20z\"/>\n",
              "  </svg>\n",
              "      </button>\n",
              "      \n",
              "  <style>\n",
              "    .colab-df-container {\n",
              "      display:flex;\n",
              "      flex-wrap:wrap;\n",
              "      gap: 12px;\n",
              "    }\n",
              "\n",
              "    .colab-df-convert {\n",
              "      background-color: #E8F0FE;\n",
              "      border: none;\n",
              "      border-radius: 50%;\n",
              "      cursor: pointer;\n",
              "      display: none;\n",
              "      fill: #1967D2;\n",
              "      height: 32px;\n",
              "      padding: 0 0 0 0;\n",
              "      width: 32px;\n",
              "    }\n",
              "\n",
              "    .colab-df-convert:hover {\n",
              "      background-color: #E2EBFA;\n",
              "      box-shadow: 0px 1px 2px rgba(60, 64, 67, 0.3), 0px 1px 3px 1px rgba(60, 64, 67, 0.15);\n",
              "      fill: #174EA6;\n",
              "    }\n",
              "\n",
              "    [theme=dark] .colab-df-convert {\n",
              "      background-color: #3B4455;\n",
              "      fill: #D2E3FC;\n",
              "    }\n",
              "\n",
              "    [theme=dark] .colab-df-convert:hover {\n",
              "      background-color: #434B5C;\n",
              "      box-shadow: 0px 1px 3px 1px rgba(0, 0, 0, 0.15);\n",
              "      filter: drop-shadow(0px 1px 2px rgba(0, 0, 0, 0.3));\n",
              "      fill: #FFFFFF;\n",
              "    }\n",
              "  </style>\n",
              "\n",
              "      <script>\n",
              "        const buttonEl =\n",
              "          document.querySelector('#df-f53c220a-f639-4c8a-9a7c-282f805d475b button.colab-df-convert');\n",
              "        buttonEl.style.display =\n",
              "          google.colab.kernel.accessAllowed ? 'block' : 'none';\n",
              "\n",
              "        async function convertToInteractive(key) {\n",
              "          const element = document.querySelector('#df-f53c220a-f639-4c8a-9a7c-282f805d475b');\n",
              "          const dataTable =\n",
              "            await google.colab.kernel.invokeFunction('convertToInteractive',\n",
              "                                                     [key], {});\n",
              "          if (!dataTable) return;\n",
              "\n",
              "          const docLinkHtml = 'Like what you see? Visit the ' +\n",
              "            '<a target=\"_blank\" href=https://colab.research.google.com/notebooks/data_table.ipynb>data table notebook</a>'\n",
              "            + ' to learn more about interactive tables.';\n",
              "          element.innerHTML = '';\n",
              "          dataTable['output_type'] = 'display_data';\n",
              "          await google.colab.output.renderOutput(dataTable, element);\n",
              "          const docLink = document.createElement('div');\n",
              "          docLink.innerHTML = docLinkHtml;\n",
              "          element.appendChild(docLink);\n",
              "        }\n",
              "      </script>\n",
              "    </div>\n",
              "  </div>\n",
              "  "
            ]
          },
          "metadata": {},
          "execution_count": 69
        }
      ]
    },
    {
      "cell_type": "code",
      "source": [
        "missing['Age'] = missing['Age'].str[0]\n",
        "missing.head()"
      ],
      "metadata": {
        "colab": {
          "base_uri": "https://localhost:8080/",
          "height": 206
        },
        "id": "6GR9YfZuwI1_",
        "outputId": "ce47437e-8148-48ee-e21f-9e6ee1c7dbe1"
      },
      "execution_count": null,
      "outputs": [
        {
          "output_type": "execute_result",
          "data": {
            "text/plain": [
              "                         Name             Datetime            Tags  \\\n",
              "0              ΟΛΥΜΠΙΑΔΑ ΡΗΓΑ  2022-06-25 22:44:41  Εξαφανισθέντες   \n",
              "1              ΦΑΝΗ ΠΑΡΑΦΕΣΤΑ  2022-06-20 15:35:19  Εξαφανισθέντες   \n",
              "2   ΕΥΓΕΝΙΑ – ΜΑΡΙΑ ΒΟΥΝΙΟΖΟΥ  2022-05-31 11:04:55  Εξαφανισθέντες   \n",
              "3          ΕΥΦΗΜΙΑ ΔΗΜΟΠΟΥΛΟΥ  2022-05-23 21:22:33  Εξαφανισθέντες   \n",
              "4  ΚΩΝΣΤΑΝΤΙΝΟΣ ΖΑΦΕΙΡΟΠΟΥΛΟΣ  2022-05-12 21:06:44  Εξαφανισθέντες   \n",
              "\n",
              "                                                 Url  Age  \n",
              "0  https://www.lifelinehellas.gr/%ce%bf%ce%bb%cf%...  54   \n",
              "1  https://www.lifelinehellas.gr/%cf%86%ce%b1%ce%...  45   \n",
              "2  https://www.lifelinehellas.gr/%ce%bc%ce%b1%cf%...  36   \n",
              "3             https://www.lifelinehellas.gr/11294-2/  77   \n",
              "4  https://www.lifelinehellas.gr/%ce%ba%cf%89%ce%...  35   "
            ],
            "text/html": [
              "\n",
              "  <div id=\"df-32f53477-452f-4b68-a3a3-cab1350291cc\">\n",
              "    <div class=\"colab-df-container\">\n",
              "      <div>\n",
              "<style scoped>\n",
              "    .dataframe tbody tr th:only-of-type {\n",
              "        vertical-align: middle;\n",
              "    }\n",
              "\n",
              "    .dataframe tbody tr th {\n",
              "        vertical-align: top;\n",
              "    }\n",
              "\n",
              "    .dataframe thead th {\n",
              "        text-align: right;\n",
              "    }\n",
              "</style>\n",
              "<table border=\"1\" class=\"dataframe\">\n",
              "  <thead>\n",
              "    <tr style=\"text-align: right;\">\n",
              "      <th></th>\n",
              "      <th>Name</th>\n",
              "      <th>Datetime</th>\n",
              "      <th>Tags</th>\n",
              "      <th>Url</th>\n",
              "      <th>Age</th>\n",
              "    </tr>\n",
              "  </thead>\n",
              "  <tbody>\n",
              "    <tr>\n",
              "      <th>0</th>\n",
              "      <td>ΟΛΥΜΠΙΑΔΑ ΡΗΓΑ</td>\n",
              "      <td>2022-06-25 22:44:41</td>\n",
              "      <td>Εξαφανισθέντες</td>\n",
              "      <td>https://www.lifelinehellas.gr/%ce%bf%ce%bb%cf%...</td>\n",
              "      <td>54</td>\n",
              "    </tr>\n",
              "    <tr>\n",
              "      <th>1</th>\n",
              "      <td>ΦΑΝΗ ΠΑΡΑΦΕΣΤΑ</td>\n",
              "      <td>2022-06-20 15:35:19</td>\n",
              "      <td>Εξαφανισθέντες</td>\n",
              "      <td>https://www.lifelinehellas.gr/%cf%86%ce%b1%ce%...</td>\n",
              "      <td>45</td>\n",
              "    </tr>\n",
              "    <tr>\n",
              "      <th>2</th>\n",
              "      <td>ΕΥΓΕΝΙΑ – ΜΑΡΙΑ ΒΟΥΝΙΟΖΟΥ</td>\n",
              "      <td>2022-05-31 11:04:55</td>\n",
              "      <td>Εξαφανισθέντες</td>\n",
              "      <td>https://www.lifelinehellas.gr/%ce%bc%ce%b1%cf%...</td>\n",
              "      <td>36</td>\n",
              "    </tr>\n",
              "    <tr>\n",
              "      <th>3</th>\n",
              "      <td>ΕΥΦΗΜΙΑ ΔΗΜΟΠΟΥΛΟΥ</td>\n",
              "      <td>2022-05-23 21:22:33</td>\n",
              "      <td>Εξαφανισθέντες</td>\n",
              "      <td>https://www.lifelinehellas.gr/11294-2/</td>\n",
              "      <td>77</td>\n",
              "    </tr>\n",
              "    <tr>\n",
              "      <th>4</th>\n",
              "      <td>ΚΩΝΣΤΑΝΤΙΝΟΣ ΖΑΦΕΙΡΟΠΟΥΛΟΣ</td>\n",
              "      <td>2022-05-12 21:06:44</td>\n",
              "      <td>Εξαφανισθέντες</td>\n",
              "      <td>https://www.lifelinehellas.gr/%ce%ba%cf%89%ce%...</td>\n",
              "      <td>35</td>\n",
              "    </tr>\n",
              "  </tbody>\n",
              "</table>\n",
              "</div>\n",
              "      <button class=\"colab-df-convert\" onclick=\"convertToInteractive('df-32f53477-452f-4b68-a3a3-cab1350291cc')\"\n",
              "              title=\"Convert this dataframe to an interactive table.\"\n",
              "              style=\"display:none;\">\n",
              "        \n",
              "  <svg xmlns=\"http://www.w3.org/2000/svg\" height=\"24px\"viewBox=\"0 0 24 24\"\n",
              "       width=\"24px\">\n",
              "    <path d=\"M0 0h24v24H0V0z\" fill=\"none\"/>\n",
              "    <path d=\"M18.56 5.44l.94 2.06.94-2.06 2.06-.94-2.06-.94-.94-2.06-.94 2.06-2.06.94zm-11 1L8.5 8.5l.94-2.06 2.06-.94-2.06-.94L8.5 2.5l-.94 2.06-2.06.94zm10 10l.94 2.06.94-2.06 2.06-.94-2.06-.94-.94-2.06-.94 2.06-2.06.94z\"/><path d=\"M17.41 7.96l-1.37-1.37c-.4-.4-.92-.59-1.43-.59-.52 0-1.04.2-1.43.59L10.3 9.45l-7.72 7.72c-.78.78-.78 2.05 0 2.83L4 21.41c.39.39.9.59 1.41.59.51 0 1.02-.2 1.41-.59l7.78-7.78 2.81-2.81c.8-.78.8-2.07 0-2.86zM5.41 20L4 18.59l7.72-7.72 1.47 1.35L5.41 20z\"/>\n",
              "  </svg>\n",
              "      </button>\n",
              "      \n",
              "  <style>\n",
              "    .colab-df-container {\n",
              "      display:flex;\n",
              "      flex-wrap:wrap;\n",
              "      gap: 12px;\n",
              "    }\n",
              "\n",
              "    .colab-df-convert {\n",
              "      background-color: #E8F0FE;\n",
              "      border: none;\n",
              "      border-radius: 50%;\n",
              "      cursor: pointer;\n",
              "      display: none;\n",
              "      fill: #1967D2;\n",
              "      height: 32px;\n",
              "      padding: 0 0 0 0;\n",
              "      width: 32px;\n",
              "    }\n",
              "\n",
              "    .colab-df-convert:hover {\n",
              "      background-color: #E2EBFA;\n",
              "      box-shadow: 0px 1px 2px rgba(60, 64, 67, 0.3), 0px 1px 3px 1px rgba(60, 64, 67, 0.15);\n",
              "      fill: #174EA6;\n",
              "    }\n",
              "\n",
              "    [theme=dark] .colab-df-convert {\n",
              "      background-color: #3B4455;\n",
              "      fill: #D2E3FC;\n",
              "    }\n",
              "\n",
              "    [theme=dark] .colab-df-convert:hover {\n",
              "      background-color: #434B5C;\n",
              "      box-shadow: 0px 1px 3px 1px rgba(0, 0, 0, 0.15);\n",
              "      filter: drop-shadow(0px 1px 2px rgba(0, 0, 0, 0.3));\n",
              "      fill: #FFFFFF;\n",
              "    }\n",
              "  </style>\n",
              "\n",
              "      <script>\n",
              "        const buttonEl =\n",
              "          document.querySelector('#df-32f53477-452f-4b68-a3a3-cab1350291cc button.colab-df-convert');\n",
              "        buttonEl.style.display =\n",
              "          google.colab.kernel.accessAllowed ? 'block' : 'none';\n",
              "\n",
              "        async function convertToInteractive(key) {\n",
              "          const element = document.querySelector('#df-32f53477-452f-4b68-a3a3-cab1350291cc');\n",
              "          const dataTable =\n",
              "            await google.colab.kernel.invokeFunction('convertToInteractive',\n",
              "                                                     [key], {});\n",
              "          if (!dataTable) return;\n",
              "\n",
              "          const docLinkHtml = 'Like what you see? Visit the ' +\n",
              "            '<a target=\"_blank\" href=https://colab.research.google.com/notebooks/data_table.ipynb>data table notebook</a>'\n",
              "            + ' to learn more about interactive tables.';\n",
              "          element.innerHTML = '';\n",
              "          dataTable['output_type'] = 'display_data';\n",
              "          await google.colab.output.renderOutput(dataTable, element);\n",
              "          const docLink = document.createElement('div');\n",
              "          docLink.innerHTML = docLinkHtml;\n",
              "          element.appendChild(docLink);\n",
              "        }\n",
              "      </script>\n",
              "    </div>\n",
              "  </div>\n",
              "  "
            ]
          },
          "metadata": {},
          "execution_count": 70
        }
      ]
    },
    {
      "cell_type": "code",
      "source": [
        "#from google.colab import drive\n",
        "#drive.mount('/content/gdrive')"
      ],
      "metadata": {
        "id": "lsDv793QxKx4",
        "colab": {
          "base_uri": "https://localhost:8080/"
        },
        "outputId": "606e36a7-b804-43f6-8a4f-0b03bc64e29d"
      },
      "execution_count": null,
      "outputs": [
        {
          "output_type": "stream",
          "name": "stdout",
          "text": [
            "Mounted at /content/gdrive\n"
          ]
        }
      ]
    },
    {
      "cell_type": "code",
      "source": [
        "#missing.to_csv(\"/content/gdrive/My Drive/Colab Notebooks/silver_alert(missing).csv\", sep='t', encoding='utf-8', index=False)"
      ],
      "metadata": {
        "id": "FV7FZ1BkFVC0"
      },
      "execution_count": null,
      "outputs": []
    },
    {
      "cell_type": "markdown",
      "source": [
        "https://raw.githubusercontent.com/SophiaPapach/datajour/main/silver_alert(missing).csv"
      ],
      "metadata": {
        "id": "9n27I8Nu0ypJ"
      }
    },
    {
      "cell_type": "code",
      "source": [
        "#df = pd.read_csv(\"/content/gdrive/My Drive/Colab Notebooks/silver_alert(missing).csv\", sep='t')"
      ],
      "metadata": {
        "id": "_9Not21O7OAV"
      },
      "execution_count": null,
      "outputs": []
    },
    {
      "cell_type": "code",
      "source": [
        "df = pd.read_csv(\"https://raw.githubusercontent.com/SophiaPapach/datajour/main/silver_alert(missing).csv\", sep='t')"
      ],
      "metadata": {
        "id": "yZUdNrlg0X5v"
      },
      "execution_count": 65,
      "outputs": []
    },
    {
      "cell_type": "code",
      "source": [
        "df"
      ],
      "metadata": {
        "colab": {
          "base_uri": "https://localhost:8080/",
          "height": 424
        },
        "id": "xaDCc55SCiJx",
        "outputId": "5c6194a0-b37f-43a3-bff3-c96034746402"
      },
      "execution_count": 66,
      "outputs": [
        {
          "output_type": "execute_result",
          "data": {
            "text/plain": [
              "                           Name             Datetime            Tags  \\\n",
              "0                ΟΛΥΜΠΙΑΔΑ ΡΗΓΑ  2022-06-25 22:44:41  Εξαφανισθέντες   \n",
              "1                ΦΑΝΗ ΠΑΡΑΦΕΣΤΑ  2022-06-20 15:35:19  Εξαφανισθέντες   \n",
              "2     ΕΥΓΕΝΙΑ – ΜΑΡΙΑ ΒΟΥΝΙΟΖΟΥ  2022-05-31 11:04:55  Εξαφανισθέντες   \n",
              "3            ΕΥΦΗΜΙΑ ΔΗΜΟΠΟΥΛΟΥ  2022-05-23 21:22:33  Εξαφανισθέντες   \n",
              "4    ΚΩΝΣΤΑΝΤΙΝΟΣ ΖΑΦΕΙΡΟΠΟΥΛΟΣ  2022-05-12 21:06:44  Εξαφανισθέντες   \n",
              "..                          ...                  ...             ...   \n",
              "145  ΚΟΝΤΟΜΠΑΣΗΣ ΒΑΣΙΛΕΙΟΣ -     2011-09-13 20:27:33  Εξαφανισθέντες   \n",
              "146    ΚΑΡΑΝΔΡΕΑΣ ΚΥΡΙΑΚΟΣ -     2011-07-30 20:10:59  Εξαφανισθέντες   \n",
              "147      ΡΕΒΙΔΗΣ ΕΥΑΓΓΕΛΟΣ -     2011-05-17 20:04:12  Εξαφανισθέντες   \n",
              "148           ΣΜΠΙΤΑ ΣΟΦΙΑ -     2011-05-14 20:01:00  Εξαφανισθέντες   \n",
              "149     ΠΟΛΙΤΗΣ ΠΑΡΑΣΚΕΥΑΣ -     2011-05-05 19:52:33  Εξαφανισθέντες   \n",
              "\n",
              "                                                   Url   Age  \n",
              "0    https://www.lifelinehellas.gr/%ce%bf%ce%bb%cf%...  54.0  \n",
              "1    https://www.lifelinehellas.gr/%cf%86%ce%b1%ce%...  45.0  \n",
              "2    https://www.lifelinehellas.gr/%ce%bc%ce%b1%cf%...  36.0  \n",
              "3               https://www.lifelinehellas.gr/11294-2/  77.0  \n",
              "4    https://www.lifelinehellas.gr/%ce%ba%cf%89%ce%...  35.0  \n",
              "..                                                 ...   ...  \n",
              "145  https://www.lifelinehellas.gr/wp-content/uploa...   NaN  \n",
              "146  https://www.lifelinehellas.gr/wp-content/uploa...   NaN  \n",
              "147  https://www.lifelinehellas.gr/wp-content/uploa...   NaN  \n",
              "148  https://www.lifelinehellas.gr/wp-content/uploa...   NaN  \n",
              "149  https://www.lifelinehellas.gr/wp-content/uploa...   NaN  \n",
              "\n",
              "[150 rows x 5 columns]"
            ],
            "text/html": [
              "\n",
              "  <div id=\"df-208cddd4-4764-4a2c-b450-8abccdec5561\">\n",
              "    <div class=\"colab-df-container\">\n",
              "      <div>\n",
              "<style scoped>\n",
              "    .dataframe tbody tr th:only-of-type {\n",
              "        vertical-align: middle;\n",
              "    }\n",
              "\n",
              "    .dataframe tbody tr th {\n",
              "        vertical-align: top;\n",
              "    }\n",
              "\n",
              "    .dataframe thead th {\n",
              "        text-align: right;\n",
              "    }\n",
              "</style>\n",
              "<table border=\"1\" class=\"dataframe\">\n",
              "  <thead>\n",
              "    <tr style=\"text-align: right;\">\n",
              "      <th></th>\n",
              "      <th>Name</th>\n",
              "      <th>Datetime</th>\n",
              "      <th>Tags</th>\n",
              "      <th>Url</th>\n",
              "      <th>Age</th>\n",
              "    </tr>\n",
              "  </thead>\n",
              "  <tbody>\n",
              "    <tr>\n",
              "      <th>0</th>\n",
              "      <td>ΟΛΥΜΠΙΑΔΑ ΡΗΓΑ</td>\n",
              "      <td>2022-06-25 22:44:41</td>\n",
              "      <td>Εξαφανισθέντες</td>\n",
              "      <td>https://www.lifelinehellas.gr/%ce%bf%ce%bb%cf%...</td>\n",
              "      <td>54.0</td>\n",
              "    </tr>\n",
              "    <tr>\n",
              "      <th>1</th>\n",
              "      <td>ΦΑΝΗ ΠΑΡΑΦΕΣΤΑ</td>\n",
              "      <td>2022-06-20 15:35:19</td>\n",
              "      <td>Εξαφανισθέντες</td>\n",
              "      <td>https://www.lifelinehellas.gr/%cf%86%ce%b1%ce%...</td>\n",
              "      <td>45.0</td>\n",
              "    </tr>\n",
              "    <tr>\n",
              "      <th>2</th>\n",
              "      <td>ΕΥΓΕΝΙΑ – ΜΑΡΙΑ ΒΟΥΝΙΟΖΟΥ</td>\n",
              "      <td>2022-05-31 11:04:55</td>\n",
              "      <td>Εξαφανισθέντες</td>\n",
              "      <td>https://www.lifelinehellas.gr/%ce%bc%ce%b1%cf%...</td>\n",
              "      <td>36.0</td>\n",
              "    </tr>\n",
              "    <tr>\n",
              "      <th>3</th>\n",
              "      <td>ΕΥΦΗΜΙΑ ΔΗΜΟΠΟΥΛΟΥ</td>\n",
              "      <td>2022-05-23 21:22:33</td>\n",
              "      <td>Εξαφανισθέντες</td>\n",
              "      <td>https://www.lifelinehellas.gr/11294-2/</td>\n",
              "      <td>77.0</td>\n",
              "    </tr>\n",
              "    <tr>\n",
              "      <th>4</th>\n",
              "      <td>ΚΩΝΣΤΑΝΤΙΝΟΣ ΖΑΦΕΙΡΟΠΟΥΛΟΣ</td>\n",
              "      <td>2022-05-12 21:06:44</td>\n",
              "      <td>Εξαφανισθέντες</td>\n",
              "      <td>https://www.lifelinehellas.gr/%ce%ba%cf%89%ce%...</td>\n",
              "      <td>35.0</td>\n",
              "    </tr>\n",
              "    <tr>\n",
              "      <th>...</th>\n",
              "      <td>...</td>\n",
              "      <td>...</td>\n",
              "      <td>...</td>\n",
              "      <td>...</td>\n",
              "      <td>...</td>\n",
              "    </tr>\n",
              "    <tr>\n",
              "      <th>145</th>\n",
              "      <td>ΚΟΝΤΟΜΠΑΣΗΣ ΒΑΣΙΛΕΙΟΣ -</td>\n",
              "      <td>2011-09-13 20:27:33</td>\n",
              "      <td>Εξαφανισθέντες</td>\n",
              "      <td>https://www.lifelinehellas.gr/wp-content/uploa...</td>\n",
              "      <td>NaN</td>\n",
              "    </tr>\n",
              "    <tr>\n",
              "      <th>146</th>\n",
              "      <td>ΚΑΡΑΝΔΡΕΑΣ ΚΥΡΙΑΚΟΣ -</td>\n",
              "      <td>2011-07-30 20:10:59</td>\n",
              "      <td>Εξαφανισθέντες</td>\n",
              "      <td>https://www.lifelinehellas.gr/wp-content/uploa...</td>\n",
              "      <td>NaN</td>\n",
              "    </tr>\n",
              "    <tr>\n",
              "      <th>147</th>\n",
              "      <td>ΡΕΒΙΔΗΣ ΕΥΑΓΓΕΛΟΣ -</td>\n",
              "      <td>2011-05-17 20:04:12</td>\n",
              "      <td>Εξαφανισθέντες</td>\n",
              "      <td>https://www.lifelinehellas.gr/wp-content/uploa...</td>\n",
              "      <td>NaN</td>\n",
              "    </tr>\n",
              "    <tr>\n",
              "      <th>148</th>\n",
              "      <td>ΣΜΠΙΤΑ ΣΟΦΙΑ -</td>\n",
              "      <td>2011-05-14 20:01:00</td>\n",
              "      <td>Εξαφανισθέντες</td>\n",
              "      <td>https://www.lifelinehellas.gr/wp-content/uploa...</td>\n",
              "      <td>NaN</td>\n",
              "    </tr>\n",
              "    <tr>\n",
              "      <th>149</th>\n",
              "      <td>ΠΟΛΙΤΗΣ ΠΑΡΑΣΚΕΥΑΣ -</td>\n",
              "      <td>2011-05-05 19:52:33</td>\n",
              "      <td>Εξαφανισθέντες</td>\n",
              "      <td>https://www.lifelinehellas.gr/wp-content/uploa...</td>\n",
              "      <td>NaN</td>\n",
              "    </tr>\n",
              "  </tbody>\n",
              "</table>\n",
              "<p>150 rows × 5 columns</p>\n",
              "</div>\n",
              "      <button class=\"colab-df-convert\" onclick=\"convertToInteractive('df-208cddd4-4764-4a2c-b450-8abccdec5561')\"\n",
              "              title=\"Convert this dataframe to an interactive table.\"\n",
              "              style=\"display:none;\">\n",
              "        \n",
              "  <svg xmlns=\"http://www.w3.org/2000/svg\" height=\"24px\"viewBox=\"0 0 24 24\"\n",
              "       width=\"24px\">\n",
              "    <path d=\"M0 0h24v24H0V0z\" fill=\"none\"/>\n",
              "    <path d=\"M18.56 5.44l.94 2.06.94-2.06 2.06-.94-2.06-.94-.94-2.06-.94 2.06-2.06.94zm-11 1L8.5 8.5l.94-2.06 2.06-.94-2.06-.94L8.5 2.5l-.94 2.06-2.06.94zm10 10l.94 2.06.94-2.06 2.06-.94-2.06-.94-.94-2.06-.94 2.06-2.06.94z\"/><path d=\"M17.41 7.96l-1.37-1.37c-.4-.4-.92-.59-1.43-.59-.52 0-1.04.2-1.43.59L10.3 9.45l-7.72 7.72c-.78.78-.78 2.05 0 2.83L4 21.41c.39.39.9.59 1.41.59.51 0 1.02-.2 1.41-.59l7.78-7.78 2.81-2.81c.8-.78.8-2.07 0-2.86zM5.41 20L4 18.59l7.72-7.72 1.47 1.35L5.41 20z\"/>\n",
              "  </svg>\n",
              "      </button>\n",
              "      \n",
              "  <style>\n",
              "    .colab-df-container {\n",
              "      display:flex;\n",
              "      flex-wrap:wrap;\n",
              "      gap: 12px;\n",
              "    }\n",
              "\n",
              "    .colab-df-convert {\n",
              "      background-color: #E8F0FE;\n",
              "      border: none;\n",
              "      border-radius: 50%;\n",
              "      cursor: pointer;\n",
              "      display: none;\n",
              "      fill: #1967D2;\n",
              "      height: 32px;\n",
              "      padding: 0 0 0 0;\n",
              "      width: 32px;\n",
              "    }\n",
              "\n",
              "    .colab-df-convert:hover {\n",
              "      background-color: #E2EBFA;\n",
              "      box-shadow: 0px 1px 2px rgba(60, 64, 67, 0.3), 0px 1px 3px 1px rgba(60, 64, 67, 0.15);\n",
              "      fill: #174EA6;\n",
              "    }\n",
              "\n",
              "    [theme=dark] .colab-df-convert {\n",
              "      background-color: #3B4455;\n",
              "      fill: #D2E3FC;\n",
              "    }\n",
              "\n",
              "    [theme=dark] .colab-df-convert:hover {\n",
              "      background-color: #434B5C;\n",
              "      box-shadow: 0px 1px 3px 1px rgba(0, 0, 0, 0.15);\n",
              "      filter: drop-shadow(0px 1px 2px rgba(0, 0, 0, 0.3));\n",
              "      fill: #FFFFFF;\n",
              "    }\n",
              "  </style>\n",
              "\n",
              "      <script>\n",
              "        const buttonEl =\n",
              "          document.querySelector('#df-208cddd4-4764-4a2c-b450-8abccdec5561 button.colab-df-convert');\n",
              "        buttonEl.style.display =\n",
              "          google.colab.kernel.accessAllowed ? 'block' : 'none';\n",
              "\n",
              "        async function convertToInteractive(key) {\n",
              "          const element = document.querySelector('#df-208cddd4-4764-4a2c-b450-8abccdec5561');\n",
              "          const dataTable =\n",
              "            await google.colab.kernel.invokeFunction('convertToInteractive',\n",
              "                                                     [key], {});\n",
              "          if (!dataTable) return;\n",
              "\n",
              "          const docLinkHtml = 'Like what you see? Visit the ' +\n",
              "            '<a target=\"_blank\" href=https://colab.research.google.com/notebooks/data_table.ipynb>data table notebook</a>'\n",
              "            + ' to learn more about interactive tables.';\n",
              "          element.innerHTML = '';\n",
              "          dataTable['output_type'] = 'display_data';\n",
              "          await google.colab.output.renderOutput(dataTable, element);\n",
              "          const docLink = document.createElement('div');\n",
              "          docLink.innerHTML = docLinkHtml;\n",
              "          element.appendChild(docLink);\n",
              "        }\n",
              "      </script>\n",
              "    </div>\n",
              "  </div>\n",
              "  "
            ]
          },
          "metadata": {},
          "execution_count": 66
        }
      ]
    },
    {
      "cell_type": "code",
      "source": [
        "df.dtypes"
      ],
      "metadata": {
        "colab": {
          "base_uri": "https://localhost:8080/"
        },
        "id": "PPREckN640cJ",
        "outputId": "746617a3-7620-4ae4-95ea-871c35ed486c"
      },
      "execution_count": 67,
      "outputs": [
        {
          "output_type": "execute_result",
          "data": {
            "text/plain": [
              "Name         object\n",
              "Datetime     object\n",
              "Tags         object\n",
              "Url          object\n",
              "Age         float64\n",
              "dtype: object"
            ]
          },
          "metadata": {},
          "execution_count": 67
        }
      ]
    },
    {
      "cell_type": "code",
      "source": [
        "from datetime import datetime"
      ],
      "metadata": {
        "id": "nQMHx7GoZJoH"
      },
      "execution_count": 68,
      "outputs": []
    },
    {
      "cell_type": "code",
      "source": [
        "df['Datetime'] = df['Datetime'].astype('datetime64[ns]')"
      ],
      "metadata": {
        "id": "2ub1Ix194F3e"
      },
      "execution_count": 69,
      "outputs": []
    },
    {
      "cell_type": "code",
      "source": [
        "df.dtypes"
      ],
      "metadata": {
        "colab": {
          "base_uri": "https://localhost:8080/"
        },
        "id": "pXBfex6s5Y4X",
        "outputId": "b7cce80d-7cc5-47d8-b191-fcc17bd34099"
      },
      "execution_count": 70,
      "outputs": [
        {
          "output_type": "execute_result",
          "data": {
            "text/plain": [
              "Name                object\n",
              "Datetime    datetime64[ns]\n",
              "Tags                object\n",
              "Url                 object\n",
              "Age                float64\n",
              "dtype: object"
            ]
          },
          "metadata": {},
          "execution_count": 70
        }
      ]
    },
    {
      "cell_type": "code",
      "source": [
        "df['Year'] = pd.DatetimeIndex(df['Datetime']).year\n",
        "df['Month'] = pd.DatetimeIndex(df['Datetime']).month"
      ],
      "metadata": {
        "id": "BFV0c6MMY1X4"
      },
      "execution_count": 71,
      "outputs": []
    },
    {
      "cell_type": "code",
      "source": [
        "import seaborn as sns\n",
        "sns.set_theme(palette=\"pastel\")"
      ],
      "metadata": {
        "id": "KpfCrXNnUuvo"
      },
      "execution_count": 72,
      "outputs": []
    },
    {
      "cell_type": "code",
      "source": [
        "custom_params = {\"axes.spines.right\": False, \"axes.spines.top\": False}\n",
        "sns.set_theme(style=\"ticks\", rc=custom_params, palette=\"pastel\")\n",
        "#sns.set_theme(style=\"whitegrid\", rc=custom_params)"
      ],
      "metadata": {
        "id": "a2bJiRzbUpzs"
      },
      "execution_count": 73,
      "outputs": []
    },
    {
      "cell_type": "code",
      "source": [
        "df['Year'].value_counts()"
      ],
      "metadata": {
        "colab": {
          "base_uri": "https://localhost:8080/"
        },
        "id": "xHDl35d1ZeBy",
        "outputId": "86ec8bce-4c76-4e9a-c6a4-b40284556440"
      },
      "execution_count": 74,
      "outputs": [
        {
          "output_type": "execute_result",
          "data": {
            "text/plain": [
              "2020    23\n",
              "2021    21\n",
              "2019    20\n",
              "2018    18\n",
              "2022    14\n",
              "2015    11\n",
              "2016    10\n",
              "2014     8\n",
              "2013     8\n",
              "2012     8\n",
              "2011     5\n",
              "2017     4\n",
              "Name: Year, dtype: int64"
            ]
          },
          "metadata": {},
          "execution_count": 74
        }
      ]
    },
    {
      "cell_type": "code",
      "source": [
        "df['Year'].value_counts(ascending=True).plot(kind='barh', title='Ενεργές Εξαφανίσεις Ενηλικων ανα έτος', color= np.random.rand(3))\n",
        "plt.suptitle('Source Of Data: Silver Alert Hellas',fontsize=12, y=0)"
      ],
      "metadata": {
        "colab": {
          "base_uri": "https://localhost:8080/",
          "height": 330
        },
        "id": "MlnsJ5EYUz9w",
        "outputId": "d8f40f97-bbdb-46f7-be30-1ac78bc96723"
      },
      "execution_count": 75,
      "outputs": [
        {
          "output_type": "execute_result",
          "data": {
            "text/plain": [
              "Text(0.5, 0, 'Source Of Data: Silver Alert Hellas')"
            ]
          },
          "metadata": {},
          "execution_count": 75
        },
        {
          "output_type": "display_data",
          "data": {
            "text/plain": [
              "<Figure size 432x288 with 1 Axes>"
            ],
            "image/png": "[encoded data removed]"
          },
          "metadata": {}
        }
      ]
    },
    {
      "cell_type": "code",
      "source": [
        "plt.figure(figsize=(8,5))\n",
        "sns.countplot(x=df.Year).set(title='Ενεργές Εξαφανίσεις Ενηλικων ανα έτος')\n",
        "plt.suptitle('Source Of Data: Silver Alert Hellas',fontsize=12, y=0)"
      ],
      "metadata": {
        "colab": {
          "base_uri": "https://localhost:8080/",
          "height": 394
        },
        "id": "k-zKJIKWZkXS",
        "outputId": "e20c111f-5594-4bb6-b523-80e2eaf86467"
      },
      "execution_count": 95,
      "outputs": [
        {
          "output_type": "execute_result",
          "data": {
            "text/plain": [
              "Text(0.5, 0, 'Source Of Data: Silver Alert Hellas')"
            ]
          },
          "metadata": {},
          "execution_count": 95
        },
        {
          "output_type": "display_data",
          "data": {
            "text/plain": [
              "<Figure size 576x360 with 1 Axes>"
            ],
            "image/png": "[encoded data removed]"
          },
          "metadata": {}
        }
      ]
    },
    {
      "cell_type": "code",
      "source": [
        "df['Month'].value_counts()"
      ],
      "metadata": {
        "colab": {
          "base_uri": "https://localhost:8080/"
        },
        "id": "6SGN1koZZt_L",
        "outputId": "7679fca1-516e-4bcf-b124-ee58b536d4a8"
      },
      "execution_count": 77,
      "outputs": [
        {
          "output_type": "execute_result",
          "data": {
            "text/plain": [
              "7     22\n",
              "5     21\n",
              "6     14\n",
              "9     14\n",
              "4     13\n",
              "10    13\n",
              "2     10\n",
              "3      9\n",
              "12     9\n",
              "8      9\n",
              "1      8\n",
              "11     8\n",
              "Name: Month, dtype: int64"
            ]
          },
          "metadata": {},
          "execution_count": 77
        }
      ]
    },
    {
      "cell_type": "code",
      "source": [
        "df['Month'].value_counts(ascending=True).plot(kind='barh', title='Ενεργές Εξαφανίσεις Ενηλικων ανα μήνα', color= np.random.rand(3))\n",
        "plt.suptitle('Source Of Data: Silver Alert Hellas',fontsize=12, y=0)"
      ],
      "metadata": {
        "colab": {
          "base_uri": "https://localhost:8080/",
          "height": 330
        },
        "id": "AGiwqOGiVAdh",
        "outputId": "a55f564a-e19a-4786-f404-3afc55f0187a"
      },
      "execution_count": 78,
      "outputs": [
        {
          "output_type": "execute_result",
          "data": {
            "text/plain": [
              "Text(0.5, 0, 'Source Of Data: Silver Alert Hellas')"
            ]
          },
          "metadata": {},
          "execution_count": 78
        },
        {
          "output_type": "display_data",
          "data": {
            "text/plain": [
              "<Figure size 432x288 with 1 Axes>"
            ],
            "image/png": "[encoded data removed]"
          },
          "metadata": {}
        }
      ]
    },
    {
      "cell_type": "code",
      "source": [
        "plt.figure(figsize=(8,5))\n",
        "sns.countplot(x=df.Month).set(title='Ενεργές Εξαφανίσεις Ενηλικων ανα μήνα')\n",
        "plt.suptitle('Source Of Data: Silver Alert Hellas',fontsize=12, y=0)"
      ],
      "metadata": {
        "colab": {
          "base_uri": "https://localhost:8080/",
          "height": 394
        },
        "id": "NP6BTT_Ea8Rv",
        "outputId": "e32a4069-a3f2-4d24-fd16-d117e731cc28"
      },
      "execution_count": 94,
      "outputs": [
        {
          "output_type": "execute_result",
          "data": {
            "text/plain": [
              "Text(0.5, 0, 'Source Of Data: Silver Alert Hellas')"
            ]
          },
          "metadata": {},
          "execution_count": 94
        },
        {
          "output_type": "display_data",
          "data": {
            "text/plain": [
              "<Figure size 576x360 with 1 Axes>"
            ],
            "image/png": "[encoded data removed]"
          },
          "metadata": {}
        }
      ]
    },
    {
      "cell_type": "code",
      "source": [
        "df['Age'].mean()"
      ],
      "metadata": {
        "id": "Bmw7KTBVZ1K4",
        "colab": {
          "base_uri": "https://localhost:8080/"
        },
        "outputId": "25e8eb13-8abd-4d51-e8a6-fb165373a7d1"
      },
      "execution_count": 80,
      "outputs": [
        {
          "output_type": "execute_result",
          "data": {
            "text/plain": [
              "66.72222222222223"
            ]
          },
          "metadata": {},
          "execution_count": 80
        }
      ]
    },
    {
      "cell_type": "code",
      "source": [
        "df['Age'].value_counts()"
      ],
      "metadata": {
        "colab": {
          "base_uri": "https://localhost:8080/"
        },
        "id": "yEejl1faVewI",
        "outputId": "6e1d9fac-615f-4cf7-e779-5dea27cf7128"
      },
      "execution_count": 81,
      "outputs": [
        {
          "output_type": "execute_result",
          "data": {
            "text/plain": [
              "77.0    4\n",
              "80.0    4\n",
              "65.0    3\n",
              "76.0    3\n",
              "81.0    3\n",
              "74.0    2\n",
              "84.0    2\n",
              "36.0    2\n",
              "35.0    2\n",
              "61.0    2\n",
              "90.0    2\n",
              "75.0    2\n",
              "85.0    2\n",
              "46.0    1\n",
              "73.0    1\n",
              "54.0    1\n",
              "89.0    1\n",
              "83.0    1\n",
              "19.0    1\n",
              "43.0    1\n",
              "55.0    1\n",
              "64.0    1\n",
              "88.0    1\n",
              "27.0    1\n",
              "95.0    1\n",
              "69.0    1\n",
              "45.0    1\n",
              "71.0    1\n",
              "23.0    1\n",
              "52.0    1\n",
              "41.0    1\n",
              "70.0    1\n",
              "40.0    1\n",
              "82.0    1\n",
              "Name: Age, dtype: int64"
            ]
          },
          "metadata": {},
          "execution_count": 81
        }
      ]
    },
    {
      "cell_type": "code",
      "source": [
        "s=df['Age'].value_counts()\n",
        "s.groupby(np.where(s>=2,s.index,'other')).sum().plot(kind='pie', shadow = True, figsize=(5,5), autopct='%1.0f%%', title='Ηλικίες Εξαφανισμένων Ενηλικων')\n",
        "plt.suptitle('Source Of Data: Silver Alert Hellas',fontsize=12, y=0)"
      ],
      "metadata": {
        "id": "n6CCwq071RWD",
        "colab": {
          "base_uri": "https://localhost:8080/",
          "height": 394
        },
        "outputId": "9b8090a2-4895-4e9a-9b93-a7b8a11dc8a4"
      },
      "execution_count": 97,
      "outputs": [
        {
          "output_type": "execute_result",
          "data": {
            "text/plain": [
              "Text(0.5, 0, 'Source Of Data: Silver Alert Hellas')"
            ]
          },
          "metadata": {},
          "execution_count": 97
        },
        {
          "output_type": "display_data",
          "data": {
            "text/plain": [
              "<Figure size 360x360 with 1 Axes>"
            ],
            "image/png": "[encoded data removed]"
          },
          "metadata": {}
        }
      ]
    },
    {
      "cell_type": "code",
      "source": [
        "plt.scatter(df.Age, df.Year)\n",
        "plt.title('Εξαφανίσεις ανα ηλικία και έτος')\n",
        "plt.suptitle('Source Of Data: Silver Alert Hellas',fontsize=12, y=0)"
      ],
      "metadata": {
        "colab": {
          "base_uri": "https://localhost:8080/",
          "height": 330
        },
        "id": "_rykARVHVl84",
        "outputId": "1e2d4582-e3a5-425e-d347-c847d36518ca"
      },
      "execution_count": 83,
      "outputs": [
        {
          "output_type": "execute_result",
          "data": {
            "text/plain": [
              "Text(0.5, 0, 'Source Of Data: Silver Alert Hellas')"
            ]
          },
          "metadata": {},
          "execution_count": 83
        },
        {
          "output_type": "display_data",
          "data": {
            "text/plain": [
              "<Figure size 432x288 with 1 Axes>"
            ],
            "image/png": "[encoded data removed]"
          },
          "metadata": {}
        }
      ]
    },
    {
      "cell_type": "code",
      "source": [
        "plt.scatter(df.Age, df.Month, color= np.random.rand(3))\n",
        "plt.title('Εξαφανίσεις ανα ηλικία και ανα μήνα')\n",
        "plt.suptitle('Source Of Data: Silver Alert Hellas',fontsize=12, y=0)"
      ],
      "metadata": {
        "colab": {
          "base_uri": "https://localhost:8080/",
          "height": 330
        },
        "id": "sRxaQMdkWiaZ",
        "outputId": "1c579852-010b-4dfe-a4ec-6b5b9801c329"
      },
      "execution_count": 87,
      "outputs": [
        {
          "output_type": "execute_result",
          "data": {
            "text/plain": [
              "Text(0.5, 0, 'Source Of Data: Silver Alert Hellas')"
            ]
          },
          "metadata": {},
          "execution_count": 87
        },
        {
          "output_type": "display_data",
          "data": {
            "text/plain": [
              "<Figure size 432x288 with 1 Axes>"
            ],
            "image/png": "[encoded data removed]"
          },
          "metadata": {}
        }
      ]
    },
    {
      "cell_type": "code",
      "source": [
        ""
      ],
      "metadata": {
        "id": "GnSFMqdLXwaQ"
      },
      "execution_count": 86,
      "outputs": []
    }
  ]
}