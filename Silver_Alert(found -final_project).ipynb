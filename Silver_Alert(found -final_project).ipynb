{
  "nbformat": 4,
  "nbformat_minor": 0,
  "metadata": {
    "colab": {
      "name": "SILVER ALERT(found).ipynb",
      "provenance": []
    },
    "kernelspec": {
      "name": "python3",
      "display_name": "Python 3"
    },
    "language_info": {
      "name": "python"
    }
  },
  "cells": [
    {
      "cell_type": "markdown",
      "source": [
        "## Silver Alert Greece - Εξαφανίσεις Γραμμή Ζωής που βρέθηκαν\n",
        "**Παπαχρήστου Σοφία**\n",
        "\n",
        "Θα προσπαθήσω να συλλέξω και πληροφορίες για άτομα που έχουν βρεθεί, πχ να δω και πόσοι συνολικά είναι κτλ...\n",
        "\n",
        "https://www.lifelinehellas.gr/%ce%ba%ce%ad%ce%bd%cf%84%cf%81%ce%bf-%cf%84%cf%8d%cf%80%ce%bf%cf%85/silver-alert-hellas-2/"
      ],
      "metadata": {
        "id": "1eTrdMomSNpb"
      }
    },
    {
      "cell_type": "code",
      "execution_count": 1,
      "metadata": {
        "id": "0KJDSno1SEZT"
      },
      "outputs": [],
      "source": [
        "from urllib.request import Request, urlopen\n",
        "from bs4 import BeautifulSoup\n",
        "%matplotlib inline\n",
        "import pandas as pd\n",
        "import matplotlib.pyplot as plt\n",
        "import matplotlib\n",
        "matplotlib.rcParams['pdf.fonttype'] = 42\n",
        "import numpy as np\n",
        "import requests\n",
        "import time"
      ]
    },
    {
      "cell_type": "code",
      "source": [
        "req = Request('https://www.lifelinehellas.gr/%ce%ba%ce%ad%ce%bd%cf%84%cf%81%ce%bf-%cf%84%cf%8d%cf%80%ce%bf%cf%85/silver-alert-hellas-2/', headers={'User-Agent': 'Mozilla/5.0'})\n",
        "webpage = urlopen(req).read()\n",
        "silver_alert = BeautifulSoup(webpage, \"html.parser\")"
      ],
      "metadata": {
        "id": "ueK9At2SSWWe"
      },
      "execution_count": 2,
      "outputs": []
    },
    {
      "cell_type": "markdown",
      "source": [
        "##1. Βρίσκω το url του εξαφανισμένου ατόμου που βρέθηκε"
      ],
      "metadata": {
        "id": "6xhuyfF_S3G2"
      }
    },
    {
      "cell_type": "code",
      "source": [
        "urls = silver_alert.find_all('div', {'class': 'image'})\n",
        "\n",
        "for u in urls:\n",
        "  print(u.a['href'])"
      ],
      "metadata": {
        "id": "fc9WF1GgSuZB",
        "colab": {
          "base_uri": "https://localhost:8080/"
        },
        "outputId": "67fd8f61-62b9-4f18-fef7-14d2ffc2ad5a"
      },
      "execution_count": 3,
      "outputs": [
        {
          "output_type": "stream",
          "name": "stdout",
          "text": [
            "https://www.lifelinehellas.gr/%ce%b2%cf%81%ce%ad%ce%b8%ce%b7%ce%ba%ce%b5-%cf%83%cf%8e%ce%bf%cf%82-195/\n",
            "https://www.lifelinehellas.gr/%ce%b2%cf%81%ce%ad%ce%b8%ce%b7%ce%ba%ce%b5-%cf%83%cf%8e%ce%b1-92/\n",
            "https://www.lifelinehellas.gr/%ce%be%ce%b1%ce%bd%ce%b1%ce%b2%cf%81%ce%ae%ce%ba%ce%b5-%cf%84%ce%b7%ce%bd-%ce%bf%ce%b9%ce%ba%ce%bf%ce%b3%ce%ad%ce%bd%ce%b5%ce%b9%ce%ac-%cf%84%ce%bf%cf%85-%cf%87%ce%ac%cf%81%ce%b7-%cf%83%cf%84%ce%bf-10/\n",
            "https://www.lifelinehellas.gr/%ce%b2%cf%81%ce%ad%ce%b8%ce%b7%ce%ba%ce%b5-%cf%87%ce%ac%cf%81%ce%b7-%cf%83%cf%84%ce%bf-silver-alert-10/\n",
            "https://www.lifelinehellas.gr/%ce%b2%cf%81%ce%ad%ce%b8%ce%b7%ce%ba%ce%b5-%cf%83%cf%8e%ce%bf%cf%82-%ce%bf-%ce%b8%cf%8d%ce%bc%ce%b9%ce%bf%cf%82/\n",
            "https://www.lifelinehellas.gr/%ce%be%ce%b1%ce%bd%ce%b1%ce%b2%cf%81%ce%ae%ce%ba%ce%b5-%cf%84%ce%b7%ce%bd-%ce%bf%ce%b9%ce%ba%ce%bf%ce%b3%ce%ad%ce%bd%ce%b5%ce%b9%ce%ac-%cf%84%ce%bf%cf%85-%cf%87%ce%ac%cf%81%ce%b7-%cf%83%cf%84%ce%bf-9/\n"
          ]
        }
      ]
    },
    {
      "cell_type": "markdown",
      "source": [
        "##2. Βρίσκω το tag"
      ],
      "metadata": {
        "id": "bGMZAltlAm-K"
      }
    },
    {
      "cell_type": "code",
      "source": [
        "tags = silver_alert.find_all('span', {'class': 'categories'})\n",
        "\n",
        "for t in tags:\n",
        "  print(t.a.text)"
      ],
      "metadata": {
        "colab": {
          "base_uri": "https://localhost:8080/"
        },
        "id": "boKIuLfIAC1Y",
        "outputId": "e62f331c-919c-450d-c0ec-a58a2645f0c3"
      },
      "execution_count": 4,
      "outputs": [
        {
          "output_type": "stream",
          "name": "stdout",
          "text": [
            "Ευρεθέντες\n",
            "Ευρεθέντες\n",
            "Αγνώστων Στοιχείων\n",
            "Ευρεθέντες\n",
            "Ευρεθέντες\n",
            "Αγνώστων Στοιχείων\n"
          ]
        }
      ]
    },
    {
      "cell_type": "markdown",
      "source": [
        "## 3.Βρίσκω την ημερομηνία εύρεσης από την δημοσιευση του άρθρου"
      ],
      "metadata": {
        "id": "WCnR3GxJ9WE3"
      }
    },
    {
      "cell_type": "code",
      "source": [
        "date = silver_alert.find('div', attrs={'id': 'content'})\n",
        "\n",
        "for d in date.findAll(\"article\"):\n",
        "    print(d.get('sort_date'))"
      ],
      "metadata": {
        "colab": {
          "base_uri": "https://localhost:8080/"
        },
        "id": "f5lapH0U_yaY",
        "outputId": "581fbd9d-3953-45f8-99e0-ede8f8d87254"
      },
      "execution_count": 5,
      "outputs": [
        {
          "output_type": "stream",
          "name": "stdout",
          "text": [
            "2022-06-30 14:35:46\n",
            "2022-06-30 00:24:15\n",
            "2022-06-25 19:45:51\n",
            "2022-06-19 13:54:26\n",
            "2022-06-18 20:58:46\n",
            "2022-06-16 23:22:04\n"
          ]
        }
      ]
    },
    {
      "cell_type": "markdown",
      "source": [
        "## 4. Αποθηκεύω σε λίστες τα tag και τα urls όλων των σελίδων"
      ],
      "metadata": {
        "id": "2V7CO7cjsh3C"
      }
    },
    {
      "cell_type": "code",
      "source": [
        "# Φτιάχνω λίστες που θα γεμίσω με το καθένα δεδομένο\n",
        "url_list= []\n",
        "tag_list= []\n",
        "date_list= []\n",
        "\n",
        "base_url = \"https://www.lifelinehellas.gr/%ce%ba%ce%ad%ce%bd%cf%84%cf%81%ce%bf-%cf%84%cf%8d%cf%80%ce%bf%cf%85/silver-alert-hellas-2/page/\"\n",
        "\n",
        "#εδώ θα βάλω να αλλάζει το νούμερο στο url, αντίστοιχα με τον αριθμό σελίδας\n",
        "for i in range(1,150):\n",
        "    url = base_url + str(i) + \"/\"\n",
        "    #print(url)\n",
        "\n",
        "    page = requests.get(url, headers={'User-Agent': 'Mozilla/5.0'})\n",
        "    s = BeautifulSoup(page.content, 'html.parser')\n",
        "\n",
        "    for u in s.find_all('div', {'class': 'image'}):\n",
        "        url_list.append(u.a['href'])\n",
        "\n",
        "    box = s.find('div', attrs={'id': 'content'})\n",
        "    for d in box.findAll(\"article\"):\n",
        "        date_list.append(d.get('sort_date'))\n",
        "\n",
        "    for t in s.find_all('span', {'class': 'categories'}):\n",
        "        tag_list.append(t.a.text)"
      ],
      "metadata": {
        "id": "8yE2vMYrshdi"
      },
      "execution_count": 6,
      "outputs": []
    },
    {
      "cell_type": "code",
      "source": [
        "len(url_list)"
      ],
      "metadata": {
        "colab": {
          "base_uri": "https://localhost:8080/"
        },
        "id": "KPXtCA1pts5Z",
        "outputId": "b87efbe2-58dc-4a0a-fde5-2ef7e45508b6"
      },
      "execution_count": 7,
      "outputs": [
        {
          "output_type": "execute_result",
          "data": {
            "text/plain": [
              "894"
            ]
          },
          "metadata": {},
          "execution_count": 7
        }
      ]
    },
    {
      "cell_type": "markdown",
      "source": [
        "## 4. Ανοίγω κάθε url και συλλέγω πληροφορίες\n",
        "Φτιάχνω λίστα για ότι ηλικία υπάρχει στο text"
      ],
      "metadata": {
        "id": "5mrjU6QAsEYO"
      }
    },
    {
      "cell_type": "code",
      "source": [
        "import re"
      ],
      "metadata": {
        "id": "GOeKz_mFtn0f"
      },
      "execution_count": 8,
      "outputs": []
    },
    {
      "cell_type": "code",
      "source": [
        "age_list = []\n",
        "\n",
        "for i in range(len(url_list)):\n",
        "  reqs2 = requests.get(url_list[i])\n",
        "  soup2 = BeautifulSoup(reqs2.content, \"html.parser\")\n",
        "\n",
        "  if soup2.find(\"div\", {'class': \"entry-content\"}):\n",
        "    for x in soup2.find_all(\"div\", {'class': \"entry-content\"}):\n",
        "        age_list.append(re.findall(r\"(\\d+\\W?)+(?:ετών|χρονου|χρονης)\", str(x)))\n",
        "  else:\n",
        "      age_list.append(None)"
      ],
      "metadata": {
        "id": "gjKmJcgvdUNR"
      },
      "execution_count": 9,
      "outputs": []
    },
    {
      "cell_type": "code",
      "source": [
        "len(age_list)"
      ],
      "metadata": {
        "id": "3fBHKDGZdUJ7",
        "colab": {
          "base_uri": "https://localhost:8080/"
        },
        "outputId": "bf043cea-1017-48bf-9d14-1962dcc1bbb9"
      },
      "execution_count": 10,
      "outputs": [
        {
          "output_type": "execute_result",
          "data": {
            "text/plain": [
              "894"
            ]
          },
          "metadata": {},
          "execution_count": 10
        }
      ]
    },
    {
      "cell_type": "markdown",
      "source": [
        "Θα μπορούσα να βρω και τα ονόματα των ατόμων που βρέθηκαν μέσα από το κείμενο,βάζοντας τις πρωτες δυο λεξεις που εχουν κεφαλαιο γραμμα στο κειμενο (βέβαια μπορεί να μην ισχύει πάντα) ή να βάλω δυο λέξεις στη σειρά με το πρώτο γράμμα κεφαλαίο ή λέξεις που συνοδεύονται από το κ./ κυρία κτλ... Βέβαια όλα αυτά δεν είναι σίγουρο τι αποτέλεσμα θα βρουν σε τόσα κείμενα οπότε δεν θα ασχοληθώ με τα ονόματα, δεν μου χρειάζονται κιόλας."
      ],
      "metadata": {
        "id": "-KrSS2wX1oWJ"
      }
    },
    {
      "cell_type": "markdown",
      "source": [
        "## 5. Κάνω df τα δεδομένα μου..."
      ],
      "metadata": {
        "id": "nZbFOU9tD1fs"
      }
    },
    {
      "cell_type": "code",
      "source": [
        "found = pd.DataFrame({'Tags': tag_list, 'Datetime': date_list, 'Url': url_list, 'Age':age_list})\n",
        "found.head()"
      ],
      "metadata": {
        "id": "oYLPG9S9dT9e",
        "colab": {
          "base_uri": "https://localhost:8080/",
          "height": 206
        },
        "outputId": "c0860661-18c3-44b6-de94-70db0a8b6410"
      },
      "execution_count": 12,
      "outputs": [
        {
          "output_type": "execute_result",
          "data": {
            "text/plain": [
              "                 Tags             Datetime  \\\n",
              "0          Ευρεθέντες  2022-06-30 14:35:46   \n",
              "1          Ευρεθέντες  2022-06-30 00:24:15   \n",
              "2  Αγνώστων Στοιχείων  2022-06-25 19:45:51   \n",
              "3          Ευρεθέντες  2022-06-19 13:54:26   \n",
              "4          Ευρεθέντες  2022-06-18 20:58:46   \n",
              "\n",
              "                                                 Url    Age  \n",
              "0  https://www.lifelinehellas.gr/%ce%b2%cf%81%ce%...  [71 ]  \n",
              "1  https://www.lifelinehellas.gr/%ce%b2%cf%81%ce%...  [54 ]  \n",
              "2  https://www.lifelinehellas.gr/%ce%be%ce%b1%ce%...     []  \n",
              "3  https://www.lifelinehellas.gr/%ce%b2%cf%81%ce%...  [68 ]  \n",
              "4  https://www.lifelinehellas.gr/%ce%b2%cf%81%ce%...  [39 ]  "
            ],
            "text/html": [
              "\n",
              "  <div id=\"df-88e5ef2d-d755-492d-b0ff-ff0d66ba1ec4\">\n",
              "    <div class=\"colab-df-container\">\n",
              "      <div>\n",
              "<style scoped>\n",
              "    .dataframe tbody tr th:only-of-type {\n",
              "        vertical-align: middle;\n",
              "    }\n",
              "\n",
              "    .dataframe tbody tr th {\n",
              "        vertical-align: top;\n",
              "    }\n",
              "\n",
              "    .dataframe thead th {\n",
              "        text-align: right;\n",
              "    }\n",
              "</style>\n",
              "<table border=\"1\" class=\"dataframe\">\n",
              "  <thead>\n",
              "    <tr style=\"text-align: right;\">\n",
              "      <th></th>\n",
              "      <th>Tags</th>\n",
              "      <th>Datetime</th>\n",
              "      <th>Url</th>\n",
              "      <th>Age</th>\n",
              "    </tr>\n",
              "  </thead>\n",
              "  <tbody>\n",
              "    <tr>\n",
              "      <th>0</th>\n",
              "      <td>Ευρεθέντες</td>\n",
              "      <td>2022-06-30 14:35:46</td>\n",
              "      <td>https://www.lifelinehellas.gr/%ce%b2%cf%81%ce%...</td>\n",
              "      <td>[71 ]</td>\n",
              "    </tr>\n",
              "    <tr>\n",
              "      <th>1</th>\n",
              "      <td>Ευρεθέντες</td>\n",
              "      <td>2022-06-30 00:24:15</td>\n",
              "      <td>https://www.lifelinehellas.gr/%ce%b2%cf%81%ce%...</td>\n",
              "      <td>[54 ]</td>\n",
              "    </tr>\n",
              "    <tr>\n",
              "      <th>2</th>\n",
              "      <td>Αγνώστων Στοιχείων</td>\n",
              "      <td>2022-06-25 19:45:51</td>\n",
              "      <td>https://www.lifelinehellas.gr/%ce%be%ce%b1%ce%...</td>\n",
              "      <td>[]</td>\n",
              "    </tr>\n",
              "    <tr>\n",
              "      <th>3</th>\n",
              "      <td>Ευρεθέντες</td>\n",
              "      <td>2022-06-19 13:54:26</td>\n",
              "      <td>https://www.lifelinehellas.gr/%ce%b2%cf%81%ce%...</td>\n",
              "      <td>[68 ]</td>\n",
              "    </tr>\n",
              "    <tr>\n",
              "      <th>4</th>\n",
              "      <td>Ευρεθέντες</td>\n",
              "      <td>2022-06-18 20:58:46</td>\n",
              "      <td>https://www.lifelinehellas.gr/%ce%b2%cf%81%ce%...</td>\n",
              "      <td>[39 ]</td>\n",
              "    </tr>\n",
              "  </tbody>\n",
              "</table>\n",
              "</div>\n",
              "      <button class=\"colab-df-convert\" onclick=\"convertToInteractive('df-88e5ef2d-d755-492d-b0ff-ff0d66ba1ec4')\"\n",
              "              title=\"Convert this dataframe to an interactive table.\"\n",
              "              style=\"display:none;\">\n",
              "        \n",
              "  <svg xmlns=\"http://www.w3.org/2000/svg\" height=\"24px\"viewBox=\"0 0 24 24\"\n",
              "       width=\"24px\">\n",
              "    <path d=\"M0 0h24v24H0V0z\" fill=\"none\"/>\n",
              "    <path d=\"M18.56 5.44l.94 2.06.94-2.06 2.06-.94-2.06-.94-.94-2.06-.94 2.06-2.06.94zm-11 1L8.5 8.5l.94-2.06 2.06-.94-2.06-.94L8.5 2.5l-.94 2.06-2.06.94zm10 10l.94 2.06.94-2.06 2.06-.94-2.06-.94-.94-2.06-.94 2.06-2.06.94z\"/><path d=\"M17.41 7.96l-1.37-1.37c-.4-.4-.92-.59-1.43-.59-.52 0-1.04.2-1.43.59L10.3 9.45l-7.72 7.72c-.78.78-.78 2.05 0 2.83L4 21.41c.39.39.9.59 1.41.59.51 0 1.02-.2 1.41-.59l7.78-7.78 2.81-2.81c.8-.78.8-2.07 0-2.86zM5.41 20L4 18.59l7.72-7.72 1.47 1.35L5.41 20z\"/>\n",
              "  </svg>\n",
              "      </button>\n",
              "      \n",
              "  <style>\n",
              "    .colab-df-container {\n",
              "      display:flex;\n",
              "      flex-wrap:wrap;\n",
              "      gap: 12px;\n",
              "    }\n",
              "\n",
              "    .colab-df-convert {\n",
              "      background-color: #E8F0FE;\n",
              "      border: none;\n",
              "      border-radius: 50%;\n",
              "      cursor: pointer;\n",
              "      display: none;\n",
              "      fill: #1967D2;\n",
              "      height: 32px;\n",
              "      padding: 0 0 0 0;\n",
              "      width: 32px;\n",
              "    }\n",
              "\n",
              "    .colab-df-convert:hover {\n",
              "      background-color: #E2EBFA;\n",
              "      box-shadow: 0px 1px 2px rgba(60, 64, 67, 0.3), 0px 1px 3px 1px rgba(60, 64, 67, 0.15);\n",
              "      fill: #174EA6;\n",
              "    }\n",
              "\n",
              "    [theme=dark] .colab-df-convert {\n",
              "      background-color: #3B4455;\n",
              "      fill: #D2E3FC;\n",
              "    }\n",
              "\n",
              "    [theme=dark] .colab-df-convert:hover {\n",
              "      background-color: #434B5C;\n",
              "      box-shadow: 0px 1px 3px 1px rgba(0, 0, 0, 0.15);\n",
              "      filter: drop-shadow(0px 1px 2px rgba(0, 0, 0, 0.3));\n",
              "      fill: #FFFFFF;\n",
              "    }\n",
              "  </style>\n",
              "\n",
              "      <script>\n",
              "        const buttonEl =\n",
              "          document.querySelector('#df-88e5ef2d-d755-492d-b0ff-ff0d66ba1ec4 button.colab-df-convert');\n",
              "        buttonEl.style.display =\n",
              "          google.colab.kernel.accessAllowed ? 'block' : 'none';\n",
              "\n",
              "        async function convertToInteractive(key) {\n",
              "          const element = document.querySelector('#df-88e5ef2d-d755-492d-b0ff-ff0d66ba1ec4');\n",
              "          const dataTable =\n",
              "            await google.colab.kernel.invokeFunction('convertToInteractive',\n",
              "                                                     [key], {});\n",
              "          if (!dataTable) return;\n",
              "\n",
              "          const docLinkHtml = 'Like what you see? Visit the ' +\n",
              "            '<a target=\"_blank\" href=https://colab.research.google.com/notebooks/data_table.ipynb>data table notebook</a>'\n",
              "            + ' to learn more about interactive tables.';\n",
              "          element.innerHTML = '';\n",
              "          dataTable['output_type'] = 'display_data';\n",
              "          await google.colab.output.renderOutput(dataTable, element);\n",
              "          const docLink = document.createElement('div');\n",
              "          docLink.innerHTML = docLinkHtml;\n",
              "          element.appendChild(docLink);\n",
              "        }\n",
              "      </script>\n",
              "    </div>\n",
              "  </div>\n",
              "  "
            ]
          },
          "metadata": {},
          "execution_count": 12
        }
      ]
    },
    {
      "cell_type": "code",
      "source": [
        "found['Age'] = found['Age'].str[0]"
      ],
      "metadata": {
        "id": "6dKOCp20Bulq"
      },
      "execution_count": 13,
      "outputs": []
    },
    {
      "cell_type": "code",
      "source": [
        "found['Age'].value_counts()"
      ],
      "metadata": {
        "colab": {
          "base_uri": "https://localhost:8080/"
        },
        "id": "z5yxJumGBuJ-",
        "outputId": "07971099-08dc-4c77-cddb-84b6ebc6029d"
      },
      "execution_count": 15,
      "outputs": [
        {
          "output_type": "execute_result",
          "data": {
            "text/plain": [
              "73     7\n",
              "71     6\n",
              "74     6\n",
              "68     5\n",
              "81     4\n",
              "      ..\n",
              "70     1\n",
              "40     1\n",
              "45     1\n",
              "24     1\n",
              "61     1\n",
              "Name: Age, Length: 74, dtype: int64"
            ]
          },
          "metadata": {},
          "execution_count": 15
        }
      ]
    },
    {
      "cell_type": "code",
      "source": [
        "from google.colab import drive\n",
        "drive.mount('/content/gdrive')"
      ],
      "metadata": {
        "id": "wxpG3787dT65",
        "colab": {
          "base_uri": "https://localhost:8080/"
        },
        "outputId": "b50bf26e-0e9a-4e04-be2b-9c20205f8564"
      },
      "execution_count": 16,
      "outputs": [
        {
          "output_type": "stream",
          "name": "stdout",
          "text": [
            "Mounted at /content/gdrive\n"
          ]
        }
      ]
    },
    {
      "cell_type": "code",
      "source": [
        "found.to_csv(\"/content/gdrive/My Drive/Colab Notebooks/silver_alert(found).csv\", sep='t', encoding='utf-8', index=False)"
      ],
      "metadata": {
        "id": "-W2zhHmMEEfF"
      },
      "execution_count": 17,
      "outputs": []
    },
    {
      "cell_type": "code",
      "source": [
        "df = pd.read_csv(\"/content/gdrive/My Drive/Colab Notebooks/silver_alert(found).csv\", sep='t')"
      ],
      "metadata": {
        "id": "4DG4LquLEQOW"
      },
      "execution_count": 18,
      "outputs": []
    },
    {
      "cell_type": "code",
      "source": [
        "#df = pd.read_csv(\"\", sep='t')"
      ],
      "metadata": {
        "id": "hW6iHxTFEMej"
      },
      "execution_count": 19,
      "outputs": []
    },
    {
      "cell_type": "markdown",
      "source": [
        "## 6. Ενώνω dfs και το αποθηκεύω"
      ],
      "metadata": {
        "id": "l-ZSk2ry9tlg"
      }
    },
    {
      "cell_type": "markdown",
      "source": [
        "Ας ενώσω και το df (found) των ευρεθέντων με το df-missing που εχω φτιαξει ήδη [με τους εξαφανισμένους](https://github.com/SophiaPapach/datajour/blob/main/Silver_Alert(missing%20-final_project).ipynb)"
      ],
      "metadata": {
        "id": "C5_SwUkYowxV"
      }
    },
    {
      "cell_type": "code",
      "source": [
        "missing = pd.read_csv(\"https://raw.githubusercontent.com/SophiaPapach/datajour/main/silver_alert(missing).csv\", sep='t')"
      ],
      "metadata": {
        "id": "xKuw_U3FdTnB"
      },
      "execution_count": 20,
      "outputs": []
    },
    {
      "cell_type": "code",
      "source": [
        "dfinal = df.merge(missing, on=(\"Tags\",'Url', 'Datetime', 'Age'), how = 'outer')\n",
        "dfinal"
      ],
      "metadata": {
        "colab": {
          "base_uri": "https://localhost:8080/",
          "height": 424
        },
        "id": "AoAm16Wmt1rS",
        "outputId": "401b4221-b098-4510-b64c-0b7e3b9d9683"
      },
      "execution_count": 21,
      "outputs": [
        {
          "output_type": "execute_result",
          "data": {
            "text/plain": [
              "                    Tags             Datetime  \\\n",
              "0             Ευρεθέντες  2022-06-30 14:35:46   \n",
              "1             Ευρεθέντες  2022-06-30 00:24:15   \n",
              "2     Αγνώστων Στοιχείων  2022-06-25 19:45:51   \n",
              "3             Ευρεθέντες  2022-06-19 13:54:26   \n",
              "4             Ευρεθέντες  2022-06-18 20:58:46   \n",
              "...                  ...                  ...   \n",
              "1039      Εξαφανισθέντες  2011-09-13 20:27:33   \n",
              "1040      Εξαφανισθέντες  2011-07-30 20:10:59   \n",
              "1041      Εξαφανισθέντες  2011-05-17 20:04:12   \n",
              "1042      Εξαφανισθέντες  2011-05-14 20:01:00   \n",
              "1043      Εξαφανισθέντες  2011-05-05 19:52:33   \n",
              "\n",
              "                                                    Url   Age  \\\n",
              "0     https://www.lifelinehellas.gr/%ce%b2%cf%81%ce%...  71.0   \n",
              "1     https://www.lifelinehellas.gr/%ce%b2%cf%81%ce%...  54.0   \n",
              "2     https://www.lifelinehellas.gr/%ce%be%ce%b1%ce%...   NaN   \n",
              "3     https://www.lifelinehellas.gr/%ce%b2%cf%81%ce%...  68.0   \n",
              "4     https://www.lifelinehellas.gr/%ce%b2%cf%81%ce%...  39.0   \n",
              "...                                                 ...   ...   \n",
              "1039  https://www.lifelinehellas.gr/wp-content/uploa...   NaN   \n",
              "1040  https://www.lifelinehellas.gr/wp-content/uploa...   NaN   \n",
              "1041  https://www.lifelinehellas.gr/wp-content/uploa...   NaN   \n",
              "1042  https://www.lifelinehellas.gr/wp-content/uploa...   NaN   \n",
              "1043  https://www.lifelinehellas.gr/wp-content/uploa...   NaN   \n",
              "\n",
              "                            Name  \n",
              "0                            NaN  \n",
              "1                            NaN  \n",
              "2                            NaN  \n",
              "3                            NaN  \n",
              "4                            NaN  \n",
              "...                          ...  \n",
              "1039  ΚΟΝΤΟΜΠΑΣΗΣ ΒΑΣΙΛΕΙΟΣ -     \n",
              "1040    ΚΑΡΑΝΔΡΕΑΣ ΚΥΡΙΑΚΟΣ -     \n",
              "1041      ΡΕΒΙΔΗΣ ΕΥΑΓΓΕΛΟΣ -     \n",
              "1042           ΣΜΠΙΤΑ ΣΟΦΙΑ -     \n",
              "1043     ΠΟΛΙΤΗΣ ΠΑΡΑΣΚΕΥΑΣ -     \n",
              "\n",
              "[1044 rows x 5 columns]"
            ],
            "text/html": [
              "\n",
              "  <div id=\"df-a7fa3ed7-e312-4408-a3cc-160e2785c394\">\n",
              "    <div class=\"colab-df-container\">\n",
              "      <div>\n",
              "<style scoped>\n",
              "    .dataframe tbody tr th:only-of-type {\n",
              "        vertical-align: middle;\n",
              "    }\n",
              "\n",
              "    .dataframe tbody tr th {\n",
              "        vertical-align: top;\n",
              "    }\n",
              "\n",
              "    .dataframe thead th {\n",
              "        text-align: right;\n",
              "    }\n",
              "</style>\n",
              "<table border=\"1\" class=\"dataframe\">\n",
              "  <thead>\n",
              "    <tr style=\"text-align: right;\">\n",
              "      <th></th>\n",
              "      <th>Tags</th>\n",
              "      <th>Datetime</th>\n",
              "      <th>Url</th>\n",
              "      <th>Age</th>\n",
              "      <th>Name</th>\n",
              "    </tr>\n",
              "  </thead>\n",
              "  <tbody>\n",
              "    <tr>\n",
              "      <th>0</th>\n",
              "      <td>Ευρεθέντες</td>\n",
              "      <td>2022-06-30 14:35:46</td>\n",
              "      <td>https://www.lifelinehellas.gr/%ce%b2%cf%81%ce%...</td>\n",
              "      <td>71.0</td>\n",
              "      <td>NaN</td>\n",
              "    </tr>\n",
              "    <tr>\n",
              "      <th>1</th>\n",
              "      <td>Ευρεθέντες</td>\n",
              "      <td>2022-06-30 00:24:15</td>\n",
              "      <td>https://www.lifelinehellas.gr/%ce%b2%cf%81%ce%...</td>\n",
              "      <td>54.0</td>\n",
              "      <td>NaN</td>\n",
              "    </tr>\n",
              "    <tr>\n",
              "      <th>2</th>\n",
              "      <td>Αγνώστων Στοιχείων</td>\n",
              "      <td>2022-06-25 19:45:51</td>\n",
              "      <td>https://www.lifelinehellas.gr/%ce%be%ce%b1%ce%...</td>\n",
              "      <td>NaN</td>\n",
              "      <td>NaN</td>\n",
              "    </tr>\n",
              "    <tr>\n",
              "      <th>3</th>\n",
              "      <td>Ευρεθέντες</td>\n",
              "      <td>2022-06-19 13:54:26</td>\n",
              "      <td>https://www.lifelinehellas.gr/%ce%b2%cf%81%ce%...</td>\n",
              "      <td>68.0</td>\n",
              "      <td>NaN</td>\n",
              "    </tr>\n",
              "    <tr>\n",
              "      <th>4</th>\n",
              "      <td>Ευρεθέντες</td>\n",
              "      <td>2022-06-18 20:58:46</td>\n",
              "      <td>https://www.lifelinehellas.gr/%ce%b2%cf%81%ce%...</td>\n",
              "      <td>39.0</td>\n",
              "      <td>NaN</td>\n",
              "    </tr>\n",
              "    <tr>\n",
              "      <th>...</th>\n",
              "      <td>...</td>\n",
              "      <td>...</td>\n",
              "      <td>...</td>\n",
              "      <td>...</td>\n",
              "      <td>...</td>\n",
              "    </tr>\n",
              "    <tr>\n",
              "      <th>1039</th>\n",
              "      <td>Εξαφανισθέντες</td>\n",
              "      <td>2011-09-13 20:27:33</td>\n",
              "      <td>https://www.lifelinehellas.gr/wp-content/uploa...</td>\n",
              "      <td>NaN</td>\n",
              "      <td>ΚΟΝΤΟΜΠΑΣΗΣ ΒΑΣΙΛΕΙΟΣ -</td>\n",
              "    </tr>\n",
              "    <tr>\n",
              "      <th>1040</th>\n",
              "      <td>Εξαφανισθέντες</td>\n",
              "      <td>2011-07-30 20:10:59</td>\n",
              "      <td>https://www.lifelinehellas.gr/wp-content/uploa...</td>\n",
              "      <td>NaN</td>\n",
              "      <td>ΚΑΡΑΝΔΡΕΑΣ ΚΥΡΙΑΚΟΣ -</td>\n",
              "    </tr>\n",
              "    <tr>\n",
              "      <th>1041</th>\n",
              "      <td>Εξαφανισθέντες</td>\n",
              "      <td>2011-05-17 20:04:12</td>\n",
              "      <td>https://www.lifelinehellas.gr/wp-content/uploa...</td>\n",
              "      <td>NaN</td>\n",
              "      <td>ΡΕΒΙΔΗΣ ΕΥΑΓΓΕΛΟΣ -</td>\n",
              "    </tr>\n",
              "    <tr>\n",
              "      <th>1042</th>\n",
              "      <td>Εξαφανισθέντες</td>\n",
              "      <td>2011-05-14 20:01:00</td>\n",
              "      <td>https://www.lifelinehellas.gr/wp-content/uploa...</td>\n",
              "      <td>NaN</td>\n",
              "      <td>ΣΜΠΙΤΑ ΣΟΦΙΑ -</td>\n",
              "    </tr>\n",
              "    <tr>\n",
              "      <th>1043</th>\n",
              "      <td>Εξαφανισθέντες</td>\n",
              "      <td>2011-05-05 19:52:33</td>\n",
              "      <td>https://www.lifelinehellas.gr/wp-content/uploa...</td>\n",
              "      <td>NaN</td>\n",
              "      <td>ΠΟΛΙΤΗΣ ΠΑΡΑΣΚΕΥΑΣ -</td>\n",
              "    </tr>\n",
              "  </tbody>\n",
              "</table>\n",
              "<p>1044 rows × 5 columns</p>\n",
              "</div>\n",
              "      <button class=\"colab-df-convert\" onclick=\"convertToInteractive('df-a7fa3ed7-e312-4408-a3cc-160e2785c394')\"\n",
              "              title=\"Convert this dataframe to an interactive table.\"\n",
              "              style=\"display:none;\">\n",
              "        \n",
              "  <svg xmlns=\"http://www.w3.org/2000/svg\" height=\"24px\"viewBox=\"0 0 24 24\"\n",
              "       width=\"24px\">\n",
              "    <path d=\"M0 0h24v24H0V0z\" fill=\"none\"/>\n",
              "    <path d=\"M18.56 5.44l.94 2.06.94-2.06 2.06-.94-2.06-.94-.94-2.06-.94 2.06-2.06.94zm-11 1L8.5 8.5l.94-2.06 2.06-.94-2.06-.94L8.5 2.5l-.94 2.06-2.06.94zm10 10l.94 2.06.94-2.06 2.06-.94-2.06-.94-.94-2.06-.94 2.06-2.06.94z\"/><path d=\"M17.41 7.96l-1.37-1.37c-.4-.4-.92-.59-1.43-.59-.52 0-1.04.2-1.43.59L10.3 9.45l-7.72 7.72c-.78.78-.78 2.05 0 2.83L4 21.41c.39.39.9.59 1.41.59.51 0 1.02-.2 1.41-.59l7.78-7.78 2.81-2.81c.8-.78.8-2.07 0-2.86zM5.41 20L4 18.59l7.72-7.72 1.47 1.35L5.41 20z\"/>\n",
              "  </svg>\n",
              "      </button>\n",
              "      \n",
              "  <style>\n",
              "    .colab-df-container {\n",
              "      display:flex;\n",
              "      flex-wrap:wrap;\n",
              "      gap: 12px;\n",
              "    }\n",
              "\n",
              "    .colab-df-convert {\n",
              "      background-color: #E8F0FE;\n",
              "      border: none;\n",
              "      border-radius: 50%;\n",
              "      cursor: pointer;\n",
              "      display: none;\n",
              "      fill: #1967D2;\n",
              "      height: 32px;\n",
              "      padding: 0 0 0 0;\n",
              "      width: 32px;\n",
              "    }\n",
              "\n",
              "    .colab-df-convert:hover {\n",
              "      background-color: #E2EBFA;\n",
              "      box-shadow: 0px 1px 2px rgba(60, 64, 67, 0.3), 0px 1px 3px 1px rgba(60, 64, 67, 0.15);\n",
              "      fill: #174EA6;\n",
              "    }\n",
              "\n",
              "    [theme=dark] .colab-df-convert {\n",
              "      background-color: #3B4455;\n",
              "      fill: #D2E3FC;\n",
              "    }\n",
              "\n",
              "    [theme=dark] .colab-df-convert:hover {\n",
              "      background-color: #434B5C;\n",
              "      box-shadow: 0px 1px 3px 1px rgba(0, 0, 0, 0.15);\n",
              "      filter: drop-shadow(0px 1px 2px rgba(0, 0, 0, 0.3));\n",
              "      fill: #FFFFFF;\n",
              "    }\n",
              "  </style>\n",
              "\n",
              "      <script>\n",
              "        const buttonEl =\n",
              "          document.querySelector('#df-a7fa3ed7-e312-4408-a3cc-160e2785c394 button.colab-df-convert');\n",
              "        buttonEl.style.display =\n",
              "          google.colab.kernel.accessAllowed ? 'block' : 'none';\n",
              "\n",
              "        async function convertToInteractive(key) {\n",
              "          const element = document.querySelector('#df-a7fa3ed7-e312-4408-a3cc-160e2785c394');\n",
              "          const dataTable =\n",
              "            await google.colab.kernel.invokeFunction('convertToInteractive',\n",
              "                                                     [key], {});\n",
              "          if (!dataTable) return;\n",
              "\n",
              "          const docLinkHtml = 'Like what you see? Visit the ' +\n",
              "            '<a target=\"_blank\" href=https://colab.research.google.com/notebooks/data_table.ipynb>data table notebook</a>'\n",
              "            + ' to learn more about interactive tables.';\n",
              "          element.innerHTML = '';\n",
              "          dataTable['output_type'] = 'display_data';\n",
              "          await google.colab.output.renderOutput(dataTable, element);\n",
              "          const docLink = document.createElement('div');\n",
              "          docLink.innerHTML = docLinkHtml;\n",
              "          element.appendChild(docLink);\n",
              "        }\n",
              "      </script>\n",
              "    </div>\n",
              "  </div>\n",
              "  "
            ]
          },
          "metadata": {},
          "execution_count": 21
        }
      ]
    },
    {
      "cell_type": "code",
      "source": [
        "from datetime import datetime"
      ],
      "metadata": {
        "id": "aJLNZXVVdT2F"
      },
      "execution_count": 22,
      "outputs": []
    },
    {
      "cell_type": "code",
      "source": [
        "dfinal['Datetime'] = dfinal['Datetime'].astype('datetime64[ns]')"
      ],
      "metadata": {
        "id": "0Bp6F2ZxdTzw"
      },
      "execution_count": 23,
      "outputs": []
    },
    {
      "cell_type": "code",
      "source": [
        "dfinal['Year'] = pd.DatetimeIndex(dfinal['Datetime']).year\n",
        "dfinal['Month'] = pd.DatetimeIndex(dfinal['Datetime']).month"
      ],
      "metadata": {
        "id": "kQIuW6dAdTxT"
      },
      "execution_count": 24,
      "outputs": []
    },
    {
      "cell_type": "code",
      "source": [
        "dfinal"
      ],
      "metadata": {
        "colab": {
          "base_uri": "https://localhost:8080/",
          "height": 424
        },
        "id": "q7_1y49aqMIr",
        "outputId": "b1008faf-cf54-4dce-e951-a896e34d1b67"
      },
      "execution_count": 25,
      "outputs": [
        {
          "output_type": "execute_result",
          "data": {
            "text/plain": [
              "                    Tags            Datetime  \\\n",
              "0             Ευρεθέντες 2022-06-30 14:35:46   \n",
              "1             Ευρεθέντες 2022-06-30 00:24:15   \n",
              "2     Αγνώστων Στοιχείων 2022-06-25 19:45:51   \n",
              "3             Ευρεθέντες 2022-06-19 13:54:26   \n",
              "4             Ευρεθέντες 2022-06-18 20:58:46   \n",
              "...                  ...                 ...   \n",
              "1039      Εξαφανισθέντες 2011-09-13 20:27:33   \n",
              "1040      Εξαφανισθέντες 2011-07-30 20:10:59   \n",
              "1041      Εξαφανισθέντες 2011-05-17 20:04:12   \n",
              "1042      Εξαφανισθέντες 2011-05-14 20:01:00   \n",
              "1043      Εξαφανισθέντες 2011-05-05 19:52:33   \n",
              "\n",
              "                                                    Url   Age  \\\n",
              "0     https://www.lifelinehellas.gr/%ce%b2%cf%81%ce%...  71.0   \n",
              "1     https://www.lifelinehellas.gr/%ce%b2%cf%81%ce%...  54.0   \n",
              "2     https://www.lifelinehellas.gr/%ce%be%ce%b1%ce%...   NaN   \n",
              "3     https://www.lifelinehellas.gr/%ce%b2%cf%81%ce%...  68.0   \n",
              "4     https://www.lifelinehellas.gr/%ce%b2%cf%81%ce%...  39.0   \n",
              "...                                                 ...   ...   \n",
              "1039  https://www.lifelinehellas.gr/wp-content/uploa...   NaN   \n",
              "1040  https://www.lifelinehellas.gr/wp-content/uploa...   NaN   \n",
              "1041  https://www.lifelinehellas.gr/wp-content/uploa...   NaN   \n",
              "1042  https://www.lifelinehellas.gr/wp-content/uploa...   NaN   \n",
              "1043  https://www.lifelinehellas.gr/wp-content/uploa...   NaN   \n",
              "\n",
              "                            Name  Year  Month  \n",
              "0                            NaN  2022      6  \n",
              "1                            NaN  2022      6  \n",
              "2                            NaN  2022      6  \n",
              "3                            NaN  2022      6  \n",
              "4                            NaN  2022      6  \n",
              "...                          ...   ...    ...  \n",
              "1039  ΚΟΝΤΟΜΠΑΣΗΣ ΒΑΣΙΛΕΙΟΣ -     2011      9  \n",
              "1040    ΚΑΡΑΝΔΡΕΑΣ ΚΥΡΙΑΚΟΣ -     2011      7  \n",
              "1041      ΡΕΒΙΔΗΣ ΕΥΑΓΓΕΛΟΣ -     2011      5  \n",
              "1042           ΣΜΠΙΤΑ ΣΟΦΙΑ -     2011      5  \n",
              "1043     ΠΟΛΙΤΗΣ ΠΑΡΑΣΚΕΥΑΣ -     2011      5  \n",
              "\n",
              "[1044 rows x 7 columns]"
            ],
            "text/html": [
              "\n",
              "  <div id=\"df-11f497e1-0893-46d7-a37a-d24e1960d9bf\">\n",
              "    <div class=\"colab-df-container\">\n",
              "      <div>\n",
              "<style scoped>\n",
              "    .dataframe tbody tr th:only-of-type {\n",
              "        vertical-align: middle;\n",
              "    }\n",
              "\n",
              "    .dataframe tbody tr th {\n",
              "        vertical-align: top;\n",
              "    }\n",
              "\n",
              "    .dataframe thead th {\n",
              "        text-align: right;\n",
              "    }\n",
              "</style>\n",
              "<table border=\"1\" class=\"dataframe\">\n",
              "  <thead>\n",
              "    <tr style=\"text-align: right;\">\n",
              "      <th></th>\n",
              "      <th>Tags</th>\n",
              "      <th>Datetime</th>\n",
              "      <th>Url</th>\n",
              "      <th>Age</th>\n",
              "      <th>Name</th>\n",
              "      <th>Year</th>\n",
              "      <th>Month</th>\n",
              "    </tr>\n",
              "  </thead>\n",
              "  <tbody>\n",
              "    <tr>\n",
              "      <th>0</th>\n",
              "      <td>Ευρεθέντες</td>\n",
              "      <td>2022-06-30 14:35:46</td>\n",
              "      <td>https://www.lifelinehellas.gr/%ce%b2%cf%81%ce%...</td>\n",
              "      <td>71.0</td>\n",
              "      <td>NaN</td>\n",
              "      <td>2022</td>\n",
              "      <td>6</td>\n",
              "    </tr>\n",
              "    <tr>\n",
              "      <th>1</th>\n",
              "      <td>Ευρεθέντες</td>\n",
              "      <td>2022-06-30 00:24:15</td>\n",
              "      <td>https://www.lifelinehellas.gr/%ce%b2%cf%81%ce%...</td>\n",
              "      <td>54.0</td>\n",
              "      <td>NaN</td>\n",
              "      <td>2022</td>\n",
              "      <td>6</td>\n",
              "    </tr>\n",
              "    <tr>\n",
              "      <th>2</th>\n",
              "      <td>Αγνώστων Στοιχείων</td>\n",
              "      <td>2022-06-25 19:45:51</td>\n",
              "      <td>https://www.lifelinehellas.gr/%ce%be%ce%b1%ce%...</td>\n",
              "      <td>NaN</td>\n",
              "      <td>NaN</td>\n",
              "      <td>2022</td>\n",
              "      <td>6</td>\n",
              "    </tr>\n",
              "    <tr>\n",
              "      <th>3</th>\n",
              "      <td>Ευρεθέντες</td>\n",
              "      <td>2022-06-19 13:54:26</td>\n",
              "      <td>https://www.lifelinehellas.gr/%ce%b2%cf%81%ce%...</td>\n",
              "      <td>68.0</td>\n",
              "      <td>NaN</td>\n",
              "      <td>2022</td>\n",
              "      <td>6</td>\n",
              "    </tr>\n",
              "    <tr>\n",
              "      <th>4</th>\n",
              "      <td>Ευρεθέντες</td>\n",
              "      <td>2022-06-18 20:58:46</td>\n",
              "      <td>https://www.lifelinehellas.gr/%ce%b2%cf%81%ce%...</td>\n",
              "      <td>39.0</td>\n",
              "      <td>NaN</td>\n",
              "      <td>2022</td>\n",
              "      <td>6</td>\n",
              "    </tr>\n",
              "    <tr>\n",
              "      <th>...</th>\n",
              "      <td>...</td>\n",
              "      <td>...</td>\n",
              "      <td>...</td>\n",
              "      <td>...</td>\n",
              "      <td>...</td>\n",
              "      <td>...</td>\n",
              "      <td>...</td>\n",
              "    </tr>\n",
              "    <tr>\n",
              "      <th>1039</th>\n",
              "      <td>Εξαφανισθέντες</td>\n",
              "      <td>2011-09-13 20:27:33</td>\n",
              "      <td>https://www.lifelinehellas.gr/wp-content/uploa...</td>\n",
              "      <td>NaN</td>\n",
              "      <td>ΚΟΝΤΟΜΠΑΣΗΣ ΒΑΣΙΛΕΙΟΣ -</td>\n",
              "      <td>2011</td>\n",
              "      <td>9</td>\n",
              "    </tr>\n",
              "    <tr>\n",
              "      <th>1040</th>\n",
              "      <td>Εξαφανισθέντες</td>\n",
              "      <td>2011-07-30 20:10:59</td>\n",
              "      <td>https://www.lifelinehellas.gr/wp-content/uploa...</td>\n",
              "      <td>NaN</td>\n",
              "      <td>ΚΑΡΑΝΔΡΕΑΣ ΚΥΡΙΑΚΟΣ -</td>\n",
              "      <td>2011</td>\n",
              "      <td>7</td>\n",
              "    </tr>\n",
              "    <tr>\n",
              "      <th>1041</th>\n",
              "      <td>Εξαφανισθέντες</td>\n",
              "      <td>2011-05-17 20:04:12</td>\n",
              "      <td>https://www.lifelinehellas.gr/wp-content/uploa...</td>\n",
              "      <td>NaN</td>\n",
              "      <td>ΡΕΒΙΔΗΣ ΕΥΑΓΓΕΛΟΣ -</td>\n",
              "      <td>2011</td>\n",
              "      <td>5</td>\n",
              "    </tr>\n",
              "    <tr>\n",
              "      <th>1042</th>\n",
              "      <td>Εξαφανισθέντες</td>\n",
              "      <td>2011-05-14 20:01:00</td>\n",
              "      <td>https://www.lifelinehellas.gr/wp-content/uploa...</td>\n",
              "      <td>NaN</td>\n",
              "      <td>ΣΜΠΙΤΑ ΣΟΦΙΑ -</td>\n",
              "      <td>2011</td>\n",
              "      <td>5</td>\n",
              "    </tr>\n",
              "    <tr>\n",
              "      <th>1043</th>\n",
              "      <td>Εξαφανισθέντες</td>\n",
              "      <td>2011-05-05 19:52:33</td>\n",
              "      <td>https://www.lifelinehellas.gr/wp-content/uploa...</td>\n",
              "      <td>NaN</td>\n",
              "      <td>ΠΟΛΙΤΗΣ ΠΑΡΑΣΚΕΥΑΣ -</td>\n",
              "      <td>2011</td>\n",
              "      <td>5</td>\n",
              "    </tr>\n",
              "  </tbody>\n",
              "</table>\n",
              "<p>1044 rows × 7 columns</p>\n",
              "</div>\n",
              "      <button class=\"colab-df-convert\" onclick=\"convertToInteractive('df-11f497e1-0893-46d7-a37a-d24e1960d9bf')\"\n",
              "              title=\"Convert this dataframe to an interactive table.\"\n",
              "              style=\"display:none;\">\n",
              "        \n",
              "  <svg xmlns=\"http://www.w3.org/2000/svg\" height=\"24px\"viewBox=\"0 0 24 24\"\n",
              "       width=\"24px\">\n",
              "    <path d=\"M0 0h24v24H0V0z\" fill=\"none\"/>\n",
              "    <path d=\"M18.56 5.44l.94 2.06.94-2.06 2.06-.94-2.06-.94-.94-2.06-.94 2.06-2.06.94zm-11 1L8.5 8.5l.94-2.06 2.06-.94-2.06-.94L8.5 2.5l-.94 2.06-2.06.94zm10 10l.94 2.06.94-2.06 2.06-.94-2.06-.94-.94-2.06-.94 2.06-2.06.94z\"/><path d=\"M17.41 7.96l-1.37-1.37c-.4-.4-.92-.59-1.43-.59-.52 0-1.04.2-1.43.59L10.3 9.45l-7.72 7.72c-.78.78-.78 2.05 0 2.83L4 21.41c.39.39.9.59 1.41.59.51 0 1.02-.2 1.41-.59l7.78-7.78 2.81-2.81c.8-.78.8-2.07 0-2.86zM5.41 20L4 18.59l7.72-7.72 1.47 1.35L5.41 20z\"/>\n",
              "  </svg>\n",
              "      </button>\n",
              "      \n",
              "  <style>\n",
              "    .colab-df-container {\n",
              "      display:flex;\n",
              "      flex-wrap:wrap;\n",
              "      gap: 12px;\n",
              "    }\n",
              "\n",
              "    .colab-df-convert {\n",
              "      background-color: #E8F0FE;\n",
              "      border: none;\n",
              "      border-radius: 50%;\n",
              "      cursor: pointer;\n",
              "      display: none;\n",
              "      fill: #1967D2;\n",
              "      height: 32px;\n",
              "      padding: 0 0 0 0;\n",
              "      width: 32px;\n",
              "    }\n",
              "\n",
              "    .colab-df-convert:hover {\n",
              "      background-color: #E2EBFA;\n",
              "      box-shadow: 0px 1px 2px rgba(60, 64, 67, 0.3), 0px 1px 3px 1px rgba(60, 64, 67, 0.15);\n",
              "      fill: #174EA6;\n",
              "    }\n",
              "\n",
              "    [theme=dark] .colab-df-convert {\n",
              "      background-color: #3B4455;\n",
              "      fill: #D2E3FC;\n",
              "    }\n",
              "\n",
              "    [theme=dark] .colab-df-convert:hover {\n",
              "      background-color: #434B5C;\n",
              "      box-shadow: 0px 1px 3px 1px rgba(0, 0, 0, 0.15);\n",
              "      filter: drop-shadow(0px 1px 2px rgba(0, 0, 0, 0.3));\n",
              "      fill: #FFFFFF;\n",
              "    }\n",
              "  </style>\n",
              "\n",
              "      <script>\n",
              "        const buttonEl =\n",
              "          document.querySelector('#df-11f497e1-0893-46d7-a37a-d24e1960d9bf button.colab-df-convert');\n",
              "        buttonEl.style.display =\n",
              "          google.colab.kernel.accessAllowed ? 'block' : 'none';\n",
              "\n",
              "        async function convertToInteractive(key) {\n",
              "          const element = document.querySelector('#df-11f497e1-0893-46d7-a37a-d24e1960d9bf');\n",
              "          const dataTable =\n",
              "            await google.colab.kernel.invokeFunction('convertToInteractive',\n",
              "                                                     [key], {});\n",
              "          if (!dataTable) return;\n",
              "\n",
              "          const docLinkHtml = 'Like what you see? Visit the ' +\n",
              "            '<a target=\"_blank\" href=https://colab.research.google.com/notebooks/data_table.ipynb>data table notebook</a>'\n",
              "            + ' to learn more about interactive tables.';\n",
              "          element.innerHTML = '';\n",
              "          dataTable['output_type'] = 'display_data';\n",
              "          await google.colab.output.renderOutput(dataTable, element);\n",
              "          const docLink = document.createElement('div');\n",
              "          docLink.innerHTML = docLinkHtml;\n",
              "          element.appendChild(docLink);\n",
              "        }\n",
              "      </script>\n",
              "    </div>\n",
              "  </div>\n",
              "  "
            ]
          },
          "metadata": {},
          "execution_count": 25
        }
      ]
    },
    {
      "cell_type": "code",
      "source": [
        "dfinal.to_csv(\"/content/gdrive/My Drive/Colab Notebooks/silver_alert(total).csv\", sep='t', encoding='utf-8', index=False)"
      ],
      "metadata": {
        "id": "ABtRl9Kl6s68"
      },
      "execution_count": 26,
      "outputs": []
    },
    {
      "cell_type": "markdown",
      "source": [
        "## 7. Κάνω αναλύσεις και γραφήματα"
      ],
      "metadata": {
        "id": "oCvVO9wz96v5"
      }
    },
    {
      "cell_type": "code",
      "source": [
        "import seaborn as sns\n",
        "sns.set_theme(palette=\"pastel\")"
      ],
      "metadata": {
        "id": "Fg1XaKncdTuo"
      },
      "execution_count": 27,
      "outputs": []
    },
    {
      "cell_type": "code",
      "source": [
        "custom_params = {\"axes.spines.right\": False, \"axes.spines.top\": False}\n",
        "sns.set_theme(style=\"ticks\", rc=custom_params, palette=\"pastel\")\n",
        "#sns.set_theme(style=\"whitegrid\", rc=custom_params)"
      ],
      "metadata": {
        "id": "5uxdVb_IdTsH"
      },
      "execution_count": 28,
      "outputs": []
    },
    {
      "cell_type": "code",
      "source": [
        "plt.figure(figsize=(11,6))\n",
        "sns.countplot(x=pd.DatetimeIndex(found['Datetime']).year).set(title='Επίλυση Εξαφανίσεων Ενηλικων ανα έτος')\n",
        "plt.suptitle('Source Of Data: Silver Alert Hellas',fontsize=12, y=0)"
      ],
      "metadata": {
        "id": "uIIh3Ya6dTpm",
        "colab": {
          "base_uri": "https://localhost:8080/",
          "height": 457
        },
        "outputId": "b02ebd80-fb09-40ee-98aa-9d05ba44b5f6"
      },
      "execution_count": 32,
      "outputs": [
        {
          "output_type": "execute_result",
          "data": {
            "text/plain": [
              "Text(0.5, 0, 'Source Of Data: Silver Alert Hellas')"
            ]
          },
          "metadata": {},
          "execution_count": 32
        },
        {
          "output_type": "display_data",
          "data": {
            "text/plain": [
              "<Figure size 792x432 with 1 Axes>"
            ],
            "image/png": "[encoded data removed]"
          },
          "metadata": {}
        }
      ]
    },
    {
      "cell_type": "markdown",
      "source": [
        "Τώρα στο df το συνολικό παρακάτω θα δω το σύνολο από όλες τις υποθέσεις εξαφανίσεων (λυμένες και μη, ανα tag) ανα έτος."
      ],
      "metadata": {
        "id": "ap-MAduljCmH"
      }
    },
    {
      "cell_type": "code",
      "source": [
        "dfinal.Year.value_counts()"
      ],
      "metadata": {
        "colab": {
          "base_uri": "https://localhost:8080/"
        },
        "id": "4m9ZaD3LxJd2",
        "outputId": "fc5f1d91-5a65-401a-dd60-ac5b6a4b0ab8"
      },
      "execution_count": 33,
      "outputs": [
        {
          "output_type": "execute_result",
          "data": {
            "text/plain": [
              "2018    136\n",
              "2020    131\n",
              "2021    121\n",
              "2019    117\n",
              "2014     87\n",
              "2017     82\n",
              "2015     79\n",
              "2016     75\n",
              "2013     68\n",
              "2012     65\n",
              "2022     54\n",
              "2011     29\n",
              "Name: Year, dtype: int64"
            ]
          },
          "metadata": {},
          "execution_count": 33
        }
      ]
    },
    {
      "cell_type": "code",
      "source": [
        "df_plot = dfinal.groupby(['Tags', 'Year']).size().reset_index().pivot(columns='Tags', index='Year', values=0)\n",
        "df_plot.plot(kind='bar', stacked=True, figsize=(12,7))\n",
        "plt.tick_params(axis='x', labelrotation=0) #για να μην ειναι στραβα τα χρονια\n",
        "plt.title('Συνολικές Εξαφανίσεις Ενηλίκων ανα έτος', fontsize= 14)\n",
        "plt.suptitle('Source Of Data: Silver Alert Hellas',fontsize=12,  x=0.8 ,y=0)"
      ],
      "metadata": {
        "colab": {
          "base_uri": "https://localhost:8080/",
          "height": 522
        },
        "id": "9-62RNJ5xhMp",
        "outputId": "1941167e-74c3-4b74-c301-446aa92571c8"
      },
      "execution_count": 34,
      "outputs": [
        {
          "output_type": "execute_result",
          "data": {
            "text/plain": [
              "Text(0.8, 0, 'Source Of Data: Silver Alert Hellas')"
            ]
          },
          "metadata": {},
          "execution_count": 34
        },
        {
          "output_type": "display_data",
          "data": {
            "text/plain": [
              "<Figure size 864x504 with 1 Axes>"
            ],
            "image/png": "[encoded data removed]"
          },
          "metadata": {}
        }
      ]
    },
    {
      "cell_type": "code",
      "source": [
        "df_plot = dfinal.groupby(['Tags', 'Month']).size().reset_index().pivot(columns='Tags', index='Month', values=0)\n",
        "df_plot.plot(kind='bar', stacked=True, figsize=(12,7))\n",
        "plt.tick_params(axis='x', labelrotation=0)\n",
        "plt.title('Συνολικές Εξαφανίσεις Ενηλίκων ανα μηνα', fontsize= 14)\n",
        "plt.suptitle('Source Of Data: Silver Alert Hellas',fontsize=12,  x=0.8 ,y=0)"
      ],
      "metadata": {
        "colab": {
          "base_uri": "https://localhost:8080/",
          "height": 522
        },
        "id": "2rXYsNvW2hiS",
        "outputId": "af170aa8-df05-48eb-955c-2c56b81aef6e"
      },
      "execution_count": 35,
      "outputs": [
        {
          "output_type": "execute_result",
          "data": {
            "text/plain": [
              "Text(0.8, 0, 'Source Of Data: Silver Alert Hellas')"
            ]
          },
          "metadata": {},
          "execution_count": 35
        },
        {
          "output_type": "display_data",
          "data": {
            "text/plain": [
              "<Figure size 864x504 with 1 Axes>"
            ],
            "image/png": "[encoded data removed]"
          },
          "metadata": {}
        }
      ]
    },
    {
      "cell_type": "code",
      "source": [
        "dfinal['Age'].value_counts()"
      ],
      "metadata": {
        "colab": {
          "base_uri": "https://localhost:8080/"
        },
        "id": "Px6fGzVHsIa5",
        "outputId": "14f51f21-5776-4dcf-97a2-8b371a97fb7e"
      },
      "execution_count": 41,
      "outputs": [
        {
          "output_type": "execute_result",
          "data": {
            "text/plain": [
              "73.0    11\n",
              "74.0    10\n",
              "71.0     9\n",
              "81.0     9\n",
              "77.0     7\n",
              "        ..\n",
              "24.0     1\n",
              "57.0     1\n",
              "33.0     1\n",
              "38.0     1\n",
              "34.0     1\n",
              "Name: Age, Length: 61, dtype: int64"
            ]
          },
          "metadata": {},
          "execution_count": 41
        }
      ]
    },
    {
      "cell_type": "code",
      "source": [
        "dfinal.loc[dfinal['Age'].between(20,29), 'age_group'] = '20+'\n",
        "dfinal.loc[dfinal['Age'].between(30,39), 'age_group'] = '30+'\n",
        "dfinal.loc[dfinal['Age'].between(40,49), 'age_group'] = '40+'\n",
        "dfinal.loc[dfinal['Age'].between(50,59), 'age_group'] = '50+'\n",
        "dfinal.loc[dfinal['Age'].between(60,69), 'age_group'] = '60+'\n",
        "dfinal.loc[dfinal['Age'].between(70,79), 'age_group'] = '70+'\n",
        "dfinal.loc[dfinal['Age'].between(80,89), 'age_group'] = '80+'\n",
        "dfinal.loc[dfinal['Age'].between(90,99), 'age_group'] = '90+'"
      ],
      "metadata": {
        "id": "CTvRXgmrmL8q"
      },
      "execution_count": 42,
      "outputs": []
    },
    {
      "cell_type": "code",
      "source": [
        "dfinal['age_group'].value_counts()"
      ],
      "metadata": {
        "colab": {
          "base_uri": "https://localhost:8080/"
        },
        "id": "4J1PX52lm6I0",
        "outputId": "6e6ee9a2-1b37-43a2-bbe8-b679823791fe"
      },
      "execution_count": 44,
      "outputs": [
        {
          "output_type": "execute_result",
          "data": {
            "text/plain": [
              "70+    63\n",
              "80+    42\n",
              "60+    34\n",
              "30+    14\n",
              "40+    14\n",
              "50+    12\n",
              "20+     9\n",
              "90+     5\n",
              "Name: age_group, dtype: int64"
            ]
          },
          "metadata": {},
          "execution_count": 44
        }
      ]
    },
    {
      "cell_type": "code",
      "source": [
        "outer = dfinal['Tags'].value_counts()\n",
        "inner = dfinal['age_group'].value_counts()\n",
        "\n",
        "fig, ax = plt.subplots(figsize=(20,10))\n",
        "size = 0.3\n",
        "\n",
        "ax.pie(outer.values.flatten(), radius=1,\n",
        "       labels=outer.index,\n",
        "       autopct='%1.0f%%', pctdistance=0.85, \n",
        "       wedgeprops=dict(width=size, edgecolor='w'))\n",
        "\n",
        "ax.pie(inner.values.flatten(), radius=1-size, \n",
        "       labels=inner.index, labeldistance=0.4,\n",
        "       autopct='%1.0f%%', pctdistance=0.85, \n",
        "       wedgeprops=dict(width=size, edgecolor='w'))\n",
        "\n",
        "ax.set(aspect=\"equal\")\n",
        "plt.title('Ποσοστά υποθέσεων εξαφανίσεων', fontsize=15, y=0.95)\n",
        "plt.suptitle('Source Of Data: Silver Alert Hellas',fontsize=12, y=0.14)\n",
        "plt.show()"
      ],
      "metadata": {
        "colab": {
          "base_uri": "https://localhost:8080/",
          "height": 577
        },
        "id": "PgTPxK4NnEgh",
        "outputId": "669b8c51-2e23-4a61-81cb-b2709d5e5a6f"
      },
      "execution_count": 79,
      "outputs": [
        {
          "output_type": "display_data",
          "data": {
            "text/plain": [
              "<Figure size 1440x720 with 1 Axes>"
            ],
            "image/png": "[encoded data removed]"
          },
          "metadata": {}
        }
      ]
    },
    {
      "cell_type": "code",
      "source": [
        ""
      ],
      "metadata": {
        "id": "H0Mth7wGn6uB"
      },
      "execution_count": null,
      "outputs": []
    }
  ]
}